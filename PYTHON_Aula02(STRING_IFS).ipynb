{
  "nbformat": 4,
  "nbformat_minor": 0,
  "metadata": {
    "colab": {
      "provenance": [],
      "authorship_tag": "ABX9TyMRAUpJK87WOJbTXMRo/p7a",
      "include_colab_link": true
    },
    "kernelspec": {
      "name": "python3",
      "display_name": "Python 3"
    },
    "language_info": {
      "name": "python"
    }
  },
  "cells": [
    {
      "cell_type": "markdown",
      "metadata": {
        "id": "view-in-github",
        "colab_type": "text"
      },
      "source": [
        "<a href=\"https://colab.research.google.com/github/allyssonendo/Soulcode-PYTHON/blob/main/PYTHON_Aula02(STRING_IFS).ipynb\" target=\"_parent\"><img src=\"https://colab.research.google.com/assets/colab-badge.svg\" alt=\"Open In Colab\"/></a>"
      ]
    },
    {
      "cell_type": "code",
      "execution_count": 2,
      "metadata": {
        "id": "zVcQLtU-UqXA",
        "colab": {
          "base_uri": "https://localhost:8080/"
        },
        "outputId": "3a4bd597-0197-43f6-bb66-771ce826419f"
      },
      "outputs": [
        {
          "output_type": "stream",
          "name": "stdout",
          "text": [
            "abacate\n"
          ]
        }
      ],
      "source": [
        "fruta  = 'ABACATE'\n",
        "\n",
        "fruta = fruta.lower()\n",
        "print(fruta)\n"
      ]
    },
    {
      "cell_type": "code",
      "source": [
        "texto_grande = \"\"\"ESSE\n",
        "TEXTO\n",
        "PODE\n",
        "SER\n",
        "GRANDE\"\"\"\n",
        "print(texto_grande)"
      ],
      "metadata": {
        "id": "npidournyk3I",
        "colab": {
          "base_uri": "https://localhost:8080/"
        },
        "outputId": "a5ac7c44-67e3-4b5a-8bf8-7e16e9a3bab4"
      },
      "execution_count": 4,
      "outputs": [
        {
          "output_type": "stream",
          "name": "stdout",
          "text": [
            "ESSE\n",
            "TEXTO\n",
            "PODE\n",
            "SER\n",
            "GRANDE\n"
          ]
        }
      ]
    },
    {
      "cell_type": "code",
      "source": [
        "#Destacando uma palavra com aspas simples\n",
        "texto = \"Destacando o nome 'Joao'\"\n",
        "texto = 'Destacando o nome \\'Joao\\''\n",
        "print(texto)\n",
        "#Destacando uma palavra com aspas duplas\n",
        "texto2 = 'Destacando o nome \"Joao\"'\n",
        "#O caracter \\ faz ignorar o proximo caracter apos ele *que no caso seria (\")\n",
        "texto2 = \"Destacando o nome \\\"Joao\\\"\"\n",
        "print(texto2)"
      ],
      "metadata": {
        "id": "0UArkb999U85",
        "colab": {
          "base_uri": "https://localhost:8080/"
        },
        "outputId": "52ccd20f-e386-43fc-b460-76b80ed68350"
      },
      "execution_count": 5,
      "outputs": [
        {
          "output_type": "stream",
          "name": "stdout",
          "text": [
            "Destacando o nome 'Joao'\n",
            "Destacando o nome \"Joao\"\n"
          ]
        }
      ]
    },
    {
      "cell_type": "code",
      "source": [
        "#Fatiamento de strings\n",
        "\n",
        "fruta = 'Morango'\n",
        "\n",
        "print(fruta[0:]) #\n",
        "\n",
        "print(fruta[2::2]) #r n o\n",
        "\n",
        "print(fruta[5:-5:-1]) #\n",
        "\n",
        "print(fruta[-1:-4:-1]) # ogn\n",
        "\n",
        "print(fruta[:7]) #Morango\n",
        "\n",
        "print(fruta[-3:-1:-1])\n",
        "\n",
        "fruta[:4:2]"
      ],
      "metadata": {
        "colab": {
          "base_uri": "https://localhost:8080/",
          "height": 139
        },
        "id": "MECcKcI9yq3A",
        "outputId": "d06770c0-1748-4d6f-8a88-ab33af8b6acf"
      },
      "execution_count": 6,
      "outputs": [
        {
          "output_type": "stream",
          "name": "stdout",
          "text": [
            "Morango\n",
            "rno\n",
            "gna\n",
            "ogn\n",
            "Morango\n",
            "\n"
          ]
        },
        {
          "output_type": "execute_result",
          "data": {
            "text/plain": [
              "'Mr'"
            ],
            "application/vnd.google.colaboratory.intrinsic+json": {
              "type": "string"
            }
          },
          "metadata": {},
          "execution_count": 6
        }
      ]
    },
    {
      "cell_type": "code",
      "source": [
        "#Remover os espaçoes em branco (variavel.strip())\n",
        "texto ='          Um texto qualquer     '\n",
        "\n",
        "texto = texto.strip()\n",
        "print(texto)"
      ],
      "metadata": {
        "id": "8zisv-AwOxLn",
        "colab": {
          "base_uri": "https://localhost:8080/"
        },
        "outputId": "c91cca16-17e9-4c57-8e40-43fa5983a700"
      },
      "execution_count": 7,
      "outputs": [
        {
          "output_type": "stream",
          "name": "stdout",
          "text": [
            "Um texto qualquer\n"
          ]
        }
      ]
    },
    {
      "cell_type": "code",
      "source": [
        "#Alterar algo dentro da string (variavel.replace())\n",
        "\n",
        "frutas = 'Morango, Kiwi, Laramja, Goiaba, Moramgo,'\n",
        "frutas = frutas.replace('Laramja','Laranja')\n",
        "print(frutas)"
      ],
      "metadata": {
        "id": "-Z8LpaouPkl2",
        "colab": {
          "base_uri": "https://localhost:8080/"
        },
        "outputId": "b444b567-b5ae-4689-b596-a57892de0ed6"
      },
      "execution_count": 8,
      "outputs": [
        {
          "output_type": "stream",
          "name": "stdout",
          "text": [
            "Morango, Kiwi, Laranja, Goiaba, Moramgo,\n"
          ]
        }
      ]
    },
    {
      "cell_type": "code",
      "source": [
        "#Algoritmo que verifica se numero é maior, menor ou iqual a 10\n",
        "\n",
        "n = int(input('Digite um numero: '))\n",
        "\n",
        "if n>= 10:\n",
        "  if n == 10:\n",
        "    print('10')\n",
        "  else:\n",
        "    print('maior')\n",
        "else:\n",
        "  print('menor')"
      ],
      "metadata": {
        "id": "LIfT9I3JzAuW",
        "colab": {
          "base_uri": "https://localhost:8080/"
        },
        "outputId": "c8003779-985d-4079-9017-fe0a6e3571ec"
      },
      "execution_count": 9,
      "outputs": [
        {
          "output_type": "stream",
          "name": "stdout",
          "text": [
            "Digite um numero: 20\n",
            "maior\n"
          ]
        }
      ]
    },
    {
      "cell_type": "code",
      "source": [
        "#Algoritmo que leia 2 numeros inteiros e mostre na tela o maior deles ou se eles sao iquais\n",
        "\n",
        "n1 = int(input('Digite o primeiro numero: '))\n",
        "n2 = int(input('Digite o segundo numero: '))\n",
        "\n",
        "if n1 >= n2:\n",
        "  if n1 == n2:\n",
        "    print(f'{n1} é iqual {n2}')\n",
        "  else:\n",
        "    print(f'{n1} é maior que {n2}')\n",
        "else:\n",
        "  print(f'{n2} é maior que {n1}')"
      ],
      "metadata": {
        "id": "LIsZhore3JNO",
        "colab": {
          "base_uri": "https://localhost:8080/"
        },
        "outputId": "d5e1c148-7699-4946-f8db-020a30b0899d"
      },
      "execution_count": 10,
      "outputs": [
        {
          "output_type": "stream",
          "name": "stdout",
          "text": [
            "Digite o primeiro numero: 3\n",
            "Digite o segundo numero: 5\n",
            "5 é maior que 3\n"
          ]
        }
      ]
    },
    {
      "cell_type": "code",
      "source": [
        "#Exercicios final da aula\n",
        "#1) Crie um algoritmo que leia um número e diga se ele está no intervalo fechado entre 25 e 200.\n",
        "\n",
        "n = int(input('Digite um numero: '))\n",
        "\n",
        "if n >= 25 and n <= 200:\n",
        "  print('O numero esta dentro do intervalo de 25 e 200')\n",
        "else:\n",
        "  print('O numero não está dentro do intervalo de 25 e 200')\n",
        "\n"
      ],
      "metadata": {
        "id": "YNLTcjPI_Ud9",
        "colab": {
          "base_uri": "https://localhost:8080/"
        },
        "outputId": "f1b44d93-0ea7-43b2-f509-4636014ccdfc"
      },
      "execution_count": 11,
      "outputs": [
        {
          "output_type": "stream",
          "name": "stdout",
          "text": [
            "Digite um numero: 44\n",
            "O numero esta dentro do intervalo de 25 e 200\n"
          ]
        }
      ]
    },
    {
      "cell_type": "code",
      "source": [
        "#2) Crie um algoritmo que leia 5 números e informe na tela o maior número lido.\n",
        "\n",
        "maior = 0\n",
        "\n",
        "n1 = int(input('Digite o primeiro numero: '))\n",
        "maior = n1\n",
        "n2 = int(input('Digite o segundo numero: '))\n",
        "if n2 > maior:\n",
        "  maior = n2\n",
        "n3 = int(input('Digite o terceiro numero: '))\n",
        "if n3 > maior:\n",
        "  maior = n3\n",
        "n4 = int(input('Digite o quarto numero: '))\n",
        "if n4 > maior:\n",
        "  maior = n4\n",
        "n5 = int(input('Digite o quinto numero: '))\n",
        "if n5 > maior:\n",
        "  maior = n5\n",
        "print(f'O maior numero é {maior}')"
      ],
      "metadata": {
        "id": "TD43HT1AAMtQ",
        "colab": {
          "base_uri": "https://localhost:8080/"
        },
        "outputId": "0d7b8505-dbb0-4438-9b86-1ae38185636f"
      },
      "execution_count": 12,
      "outputs": [
        {
          "output_type": "stream",
          "name": "stdout",
          "text": [
            "Digite o primeiro numero: 123\n",
            "Digite o segundo numero: 41\n",
            "Digite o terceiro numero: 46\n",
            "Digite o quarto numero: 76\n",
            "Digite o quinto numero: 12\n",
            "O maior numero é 123\n"
          ]
        }
      ]
    },
    {
      "cell_type": "code",
      "source": [
        "#3) Crie um algoritmo que leia um número e informe na tela se o mesmo é positivo. Caso seja, mostre o número na tela.\n",
        "\n",
        "n1 = int(input('Digite um numero: '))\n",
        "if n1 >= 0:\n",
        "  if n1 > 0 :\n",
        "    print(f'O número {n1} é positivo')\n",
        "  else:\n",
        "    print(f'{n1} não é positivo nem negativo')\n",
        "else:\n",
        "  print(f'O numero {n1} é negativo')"
      ],
      "metadata": {
        "id": "VSFSAvDgBQU3",
        "colab": {
          "base_uri": "https://localhost:8080/"
        },
        "outputId": "a2c12a8f-4463-497e-b47a-e9bd8dc8d1e4"
      },
      "execution_count": 13,
      "outputs": [
        {
          "output_type": "stream",
          "name": "stdout",
          "text": [
            "Digite um numero: 42\n",
            "O número 42 é positivo\n"
          ]
        }
      ]
    },
    {
      "cell_type": "code",
      "source": [
        "#4) Crie um algoritmo que leia um número e informe se ele é divisível por 7\n",
        "\n",
        "n1 = int(input('Digite um numero: '))\n",
        "if n1%7 == 0:\n",
        "  print(f'O número {n1} é divisivel por 7')\n",
        "else:\n",
        "  print(f'O número não é divisivel por 7')\n",
        "  "
      ],
      "metadata": {
        "colab": {
          "base_uri": "https://localhost:8080/"
        },
        "id": "E2X-VNMbCFFD",
        "outputId": "95b10aab-6f40-460c-a1ab-ede7471e2454"
      },
      "execution_count": 14,
      "outputs": [
        {
          "output_type": "stream",
          "name": "stdout",
          "text": [
            "Digite um numero: 54\n",
            "O número não é divisivel por 7\n"
          ]
        }
      ]
    },
    {
      "cell_type": "code",
      "source": [
        "#5) Crie um algotimo que leia um número e diga se ele é par ou ímpar.\n",
        "\n",
        "n1 = int(input('Digite um numero: '))\n",
        "if n1 % 2 == 0:\n",
        "  print(f'O número {n1} é Par')\n",
        "else:\n",
        "  print(f'O número {n1} é Ímpar')\n"
      ],
      "metadata": {
        "id": "Tpj9KKG5DFjL",
        "colab": {
          "base_uri": "https://localhost:8080/"
        },
        "outputId": "9c7be915-f430-42dc-c0f5-e4ed18538203"
      },
      "execution_count": 15,
      "outputs": [
        {
          "output_type": "stream",
          "name": "stdout",
          "text": [
            "Digite um numero: 3\n",
            "O número 3 é Ímpar\n"
          ]
        }
      ]
    },
    {
      "cell_type": "code",
      "source": [
        "#6) A prefeitura de Contagem abriu uma linha de crédito para os funcionários estatutários. \n",
        "#O valor máximo da prestação não poderá ultrapassar 30% do salário bruto. Fazer um algoritmo que permita entrar com o salário bruto e o valor da prestação, \n",
        "#e informar se o empréstimo pode ou não ser concedido.'''\n",
        "\n",
        "salario = float(input('Digite o seu salario bruto: '))\n",
        "prest = float(input('Digite o valor da prestação: '))\n",
        "\n",
        "if prest > salario*0.3:\n",
        "  print('Emprestimo Reprovado')\n",
        "else:\n",
        "  print('Emprestimo Aprovado')"
      ],
      "metadata": {
        "id": "WsEyxHEtDpnR",
        "colab": {
          "base_uri": "https://localhost:8080/"
        },
        "outputId": "688ecae7-5326-42e1-b90d-d61a3ba1cfe5"
      },
      "execution_count": 16,
      "outputs": [
        {
          "output_type": "stream",
          "name": "stdout",
          "text": [
            "Digite o seu salario bruto: 2900\n",
            "Digite o valor da prestação: 300\n",
            "Emprestimo Aprovado\n"
          ]
        }
      ]
    },
    {
      "cell_type": "code",
      "source": [
        "#7)IMC \n",
        "#IMC abaixo de 20 Abaixo do peso\n",
        "#IMC de 20 até 25 Peso Normal\n",
        "#IMC de 25 até 30 Sobre Peso\n",
        "#IMC de 30 até 40 Obeso\n",
        "#IMC de 40 e acima Obeso Mórbido\n",
        "\n",
        "peso = int(input('Digite o seu peso: '))\n",
        "altura = float(input('Digite a sua altura: '))\n",
        "imc = peso/(altura*altura)\n",
        "\n",
        "if imc < 20:\n",
        "  print(f'IMC = {imc:.2f} Abaixo do peso')\n",
        "elif 20 <= imc < 25:\n",
        "  print(f'IMC = {imc:.2f} Peso Normal')\n",
        "elif 25 <= imc < 30: \n",
        "  print(f'IMC = {imc:.2f} Sobre Peso')\n",
        "elif 30 <= imc < 40:\n",
        "  print(f'IMC = {imc:.2f} Obeso')\n",
        "elif imc >= 40:\n",
        "  print(f'IMC = {imc:.2f} Obeso Mórbido')\n",
        "\n"
      ],
      "metadata": {
        "colab": {
          "base_uri": "https://localhost:8080/"
        },
        "id": "7h0hmHaPINJN",
        "outputId": "ffd33957-4799-48b8-cca3-54b1c7624190"
      },
      "execution_count": 17,
      "outputs": [
        {
          "output_type": "stream",
          "name": "stdout",
          "text": [
            "Digite o seu peso: 68\n",
            "Digite a sua altura: 1.69\n",
            "IMC = 23.81 Peso Normal\n"
          ]
        }
      ]
    },
    {
      "cell_type": "code",
      "source": [
        "#8) Criar um algoritmo em Python que leia um número inteiro entre 1 e 7 e escreva o dia da semana correspondente. Caso o usuário digite um número fora desse\n",
        "#intervalo, deverá aparecer uma mensagem informando que não existe dia da semana com esse número.\n",
        "#1 - Domingo\n",
        "#2 - Segunda\n",
        "#...\n",
        "#7 - Sábado\n",
        "\n",
        "\n",
        "n = int(input('Digite um numero: '))\n",
        "\n",
        "if n == 1 :\n",
        "  print('Domingo')\n",
        "elif n == 2 :\n",
        "  print('Segunda-Feira')\n",
        "elif n == 3:\n",
        "  print('Terça-Feira')\n",
        "elif n == 4:\n",
        "  print('Quarta-Feira')\n",
        "elif n == 5:\n",
        "  print('Quinta-Feira')\n",
        "elif n == 6:\n",
        "  print('Sexta-feira')\n",
        "elif n == 7:\n",
        "  print('Sabado')\n",
        "else:\n",
        "  print('Não existe dia da semana com esse numero')"
      ],
      "metadata": {
        "colab": {
          "base_uri": "https://localhost:8080/"
        },
        "id": "a5dSZCkpSVdG",
        "outputId": "658b5baf-095a-45ed-8b95-d55f53e34905"
      },
      "execution_count": 18,
      "outputs": [
        {
          "output_type": "stream",
          "name": "stdout",
          "text": [
            "Digite um numero: 4\n",
            "Quarta-Feira\n"
          ]
        }
      ]
    },
    {
      "cell_type": "code",
      "source": [
        "#9) A confederação brasileira de natação irá promover eliminatórias para o próximo mundial. Fazer um algoritmo em Python que receba a idade de um nadador e\n",
        "#determine (imprima) a sua categoria segundo a tabela a seguir:\n",
        "#Categoria Idade\n",
        "#Infantil A 5 – 7 anos\n",
        "#Infantil B 8 – 10 anos\n",
        "#Juvenil A 11 – 13 anos\n",
        "#Juvenil B 14 – 17 anos\n",
        "#Sênior Maiores de 18 anos\n",
        "\n",
        "idade = int(input('Digite sua idade: '))\n",
        "\n",
        "if 5 <= idade <= 7:\n",
        "  print('Infantil A')\n",
        "elif 8 <= idade <= 10:\n",
        "  print('Infantil B')\n",
        "elif 11 <= idade <= 13:\n",
        "  print('Juvenil A')\n",
        "elif 14 <= idade <=17:\n",
        "  print('Juvenil B')\n",
        "elif idade >= 18:\n",
        "  print('Sênior')\n",
        "\n"
      ],
      "metadata": {
        "colab": {
          "base_uri": "https://localhost:8080/"
        },
        "id": "RwkN3W-3n2VC",
        "outputId": "adf7680b-ae8a-4611-9b47-2c040400eca1"
      },
      "execution_count": 19,
      "outputs": [
        {
          "output_type": "stream",
          "name": "stdout",
          "text": [
            "Digite sua idade: 9\n",
            "Infantil B\n"
          ]
        }
      ]
    },
    {
      "cell_type": "code",
      "source": [
        "#10) Escreva um algoritmo em Python que dada a idade de uma pessoa, determine sua classificação segundo a seguinte tabela:\n",
        "#- maior de idade;\n",
        "#- menor de idade;\n",
        "#- pessoa idosa (idade superior ou igual a 65 anos).\n",
        "\n",
        "idade = int(input('Digite sua idade: '))\n",
        "if idade >= 65:\n",
        "  print('Pessoa idosa')\n",
        "elif idade < 18:\n",
        "  print('Menor de idade')\n",
        "else:\n",
        "  print('Maior de idade') "
      ],
      "metadata": {
        "colab": {
          "base_uri": "https://localhost:8080/"
        },
        "id": "5bhXC5kcn9MV",
        "outputId": "2b54bad2-efcd-4c8f-e62b-32327db0c2be"
      },
      "execution_count": 20,
      "outputs": [
        {
          "output_type": "stream",
          "name": "stdout",
          "text": [
            "Digite sua idade: 55\n",
            "Maior de idade\n"
          ]
        }
      ]
    },
    {
      "cell_type": "code",
      "source": [
        "#11) Crie um algoritmo em Python que leia a idade de uma pessoa e informe a sua classe eleitoral:\n",
        "#- não eleitor (abaixo de 16 anos);\n",
        "#- eleitor obrigatório (entre a faixa de 18 e menor de 65 anos);\n",
        "#- eleitor facultativo (de 16 até 18 anos e maior de 65 anos, inclusive).\n",
        "\n",
        "idade = int(input('Digite sua idade: '))\n",
        "if 16 <= idade <= 17 or idade > 65:\n",
        "  print('Eleitor facultativo')\n",
        "elif 18 <= idade <= 65:\n",
        "  print('Eleitor obrigatório')\n",
        "else:\n",
        "  print('Não eleitor')\n"
      ],
      "metadata": {
        "colab": {
          "base_uri": "https://localhost:8080/"
        },
        "id": "NWvC_0Qmn9CG",
        "outputId": "3321b78e-1552-4eff-84e3-3b67c338143d"
      },
      "execution_count": 21,
      "outputs": [
        {
          "output_type": "stream",
          "name": "stdout",
          "text": [
            "Digite sua idade: 44\n",
            "Eleitor obrigatório\n"
          ]
        }
      ]
    },
    {
      "cell_type": "code",
      "source": [
        "#12) Depois da liberação do governo para as mensalidades dos planos de saúde, as pessoas começaram a fazer pesquisas para descobrir um bom plano, não muito caro. Um\n",
        "#vendedor de um plano de saúde apresentou a tabela a seguir. Criar um algoritmo em Python que entre com a idade de uma pessoa e imprima o valor que ela deverá\n",
        "#pagar, segundo a seguinte tabela:\n",
        "#Idade Valor\n",
        "\n",
        "#Até 10 anos R$ 30,00\n",
        "#Acima de 10 até 29 anos R$ 60,00\n",
        "#Acima de 29 até 45 anos R$ 120,00\n",
        "#Acima de 45 até 59 anos R$ 150,00\n",
        "#Acima de 59 até 65 anos R$ 250,00\n",
        "#maior que 65 anos R$ 400,00\n",
        "\n",
        "idade = int(input('Digite sua idade: '))\n",
        "\n",
        "if idade < 10:\n",
        "  print('A mensalidade será de R$ 30,00')\n",
        "elif 10 <= idade <= 29:\n",
        "  print('A mensalidade será de R$ 60,00')\n",
        "elif 29 < idade <= 45:\n",
        "  print('A mensalidade será de R$ 120,00')\n",
        "elif 45 < idade <= 59:\n",
        "  print('A mensalidade será de R$ 150,00')\n",
        "elif 59 < idade <= 65:\n",
        "  print('A mensalidade será de R$ 250,00')\n",
        "else:\n",
        "  print('A mensalidade será de R$ 400,00')\n"
      ],
      "metadata": {
        "colab": {
          "base_uri": "https://localhost:8080/"
        },
        "id": "GHiTzf6Wn8nJ",
        "outputId": "430f57ba-8c73-444a-b05b-e2a712534054"
      },
      "execution_count": 23,
      "outputs": [
        {
          "output_type": "stream",
          "name": "stdout",
          "text": [
            "Digite sua idade: 23\n",
            "A mensalidade será de R$ 60,00\n"
          ]
        }
      ]
    },
    {
      "cell_type": "code",
      "source": [
        "#13) Criar um algoritmo em Python que a partir da idade e peso do paciente calcule a dosagem de determinado medicamento e imprima a receita informando quantas gotas\n",
        "#do medicamento o paciente deve tomar por dose. Considere que o medicamento em questão possui 500 mg por ml, e que cada ml corresponde a 20 gotas.\n",
        "#- Adultos ou adolescentes desde 12 anos, inclusive, se tiverem peso igual ou acima de 60 quilos devem tomar 1000 mg; com peso abaixo de 60 quilos\n",
        "#devem tomar 875 mg.\n",
        "#- Para crianças e adolescentes abaixo de 12 anos a dosagem é calculada pelo peso corpóreo conforme a tabela a seguir:\n",
        "#Peso Dosagem\n",
        "#5 kg a 9 kg 125 mg\n",
        "#9.1 kg a 16 kg 250 mg\n",
        "#16.1 kg a 24 kg 375 mg\n",
        "#24.1 kg a 30 kg 500 mg\n",
        "#Acima de 30 kg 750 mg\n",
        "\n",
        "idade = int(input('Digite sua idade: '))\n",
        "peso = float(input('Digite o seu peso: '))\n",
        "\n",
        "if idade >= 12:\n",
        "  if peso >= 60:\n",
        "    gotas = (1000*20)/500\n",
        "    print(f'Paciente com {idade} anos e {peso} quilos deve tomar {gotas:.0f} gotas')\n",
        "  else:\n",
        "    gotas = (875*20)/500\n",
        "    print(f'Paciente com {idade} anos e {peso} quilos deve tomar {gotas:.0f} gotas')\n",
        "else:\n",
        "  if 5 <= peso <= 9:\n",
        "    gotas = (125*20)/500\n",
        "    print(f'Paciente com {idade} anos e {peso} quilos deve tomar {gotas:.0f} gotas')\n",
        "  elif 9 < peso <= 16:\n",
        "    gotas = (250*20)/500\n",
        "    print(f'Paciente com {idade} anos e {peso} quilos deve tomar {gotas:.0f} gotas')\n",
        "  elif 16 < peso <= 24:\n",
        "    gotas = (375*20)/500\n",
        "    print(f'Paciente com {idade} anos e {peso} quilos deve tomar {gotas:.0f} gotas')\n",
        "  elif 24 < peso <= 30:\n",
        "    gotas = (500*20)/500\n",
        "    print(f'Paciente com {idade} anos e {peso} quilos deve tomar {gotas:.0f} gotas')\n",
        "  elif peso > 30:\n",
        "    gotas = (750*20)/500\n",
        "    print(f'Paciente com {idade} anos e {peso} quilos deve tomar {gotas:.0f} gotas')\n",
        "  else:\n",
        "    print('Peso incorreto2')\n",
        "\n",
        "\n",
        "\n"
      ],
      "metadata": {
        "colab": {
          "base_uri": "https://localhost:8080/"
        },
        "id": "sXrHfIBToCi6",
        "outputId": "0c503018-7fe1-43f0-f025-cf0cb9f52ba2"
      },
      "execution_count": 24,
      "outputs": [
        {
          "output_type": "stream",
          "name": "stdout",
          "text": [
            "Digite sua idade: 12\n",
            "Digite o seu peso: 43\n",
            "Paciente com 12 anos e 43.0 quilos deve tomar 35 gotas\n"
          ]
        }
      ]
    },
    {
      "cell_type": "code",
      "source": [
        "#14) Construa um algoritmo em Python para determinar a situação (APROVADO/EXAME/REPROVADO) de um aluno, dado a sua freqüência (FREQ)\n",
        "#(porcentagem de 0 a 100%) e sua nota (NOTA) (nota de 0.0 a 10.0), sendo que:\n",
        "#Condição Situação\n",
        "\n",
        "#Frequência até 75% Reprovado\n",
        "#Frequência entre 75% e 100% e Nota até 3.0 Reprovado\n",
        "#Frequência entre 75% e 100% e Nota de 3.0 até 7.0 Exame\n",
        "#Frequência entre 75% e 100% e Nota entre 7.0 e 10.0 Aprovado\n",
        "\n",
        "freq = int(input('Digite a sua frequencia: '))\n",
        "nota = float(input('Digite a sua nota: '))\n",
        "\n",
        "if freq < 75:\n",
        "  print('Reprovado')\n",
        "else:  \n",
        "  if nota < 3:\n",
        "    print('Reprovado')\n",
        "  elif 3 <= nota < 7:\n",
        "    print('Exame')\n",
        "  elif nota >= 7:\n",
        "    print('Aprovado')"
      ],
      "metadata": {
        "colab": {
          "base_uri": "https://localhost:8080/"
        },
        "id": "jD2EaIbioFyf",
        "outputId": "98f05d21-29d8-4b08-cb5d-36ece7226755"
      },
      "execution_count": 25,
      "outputs": [
        {
          "output_type": "stream",
          "name": "stdout",
          "text": [
            "Digite a sua frequencia: 70\n",
            "Digite a sua nota: 5\n",
            "Reprovado\n"
          ]
        }
      ]
    }
  ]
}