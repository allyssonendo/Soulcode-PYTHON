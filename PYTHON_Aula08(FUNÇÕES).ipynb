{
  "nbformat": 4,
  "nbformat_minor": 0,
  "metadata": {
    "colab": {
      "provenance": [],
      "authorship_tag": "ABX9TyPeDN3ZmqF/D+pucVxFveJs",
      "include_colab_link": true
    },
    "kernelspec": {
      "name": "python3",
      "display_name": "Python 3"
    },
    "language_info": {
      "name": "python"
    }
  },
  "cells": [
    {
      "cell_type": "markdown",
      "metadata": {
        "id": "view-in-github",
        "colab_type": "text"
      },
      "source": [
        "<a href=\"https://colab.research.google.com/github/allyssonendo/Soulcode-PYTHON/blob/main/PYTHON_Aula08(FUN%C3%87%C3%95ES).ipynb\" target=\"_parent\"><img src=\"https://colab.research.google.com/assets/colab-badge.svg\" alt=\"Open In Colab\"/></a>"
      ]
    },
    {
      "cell_type": "code",
      "execution_count": null,
      "metadata": {
        "colab": {
          "base_uri": "https://localhost:8080/"
        },
        "id": "VKNJT57jSP6j",
        "outputId": "b99b7a4b-1030-4191-915e-8dd69661e762"
      },
      "outputs": [
        {
          "output_type": "stream",
          "name": "stdout",
          "text": [
            "Digite um numero: 10\n",
            "Digite outro numero: 10\n",
            "20\n"
          ]
        }
      ],
      "source": [
        "#Função sem argumentos\n",
        "#A função não irá gerar\n",
        "\n",
        "def soma():\n",
        "  a = int(input('Digite um numero: '))\n",
        "  b = int(input('Digite outro numero: '))\n",
        "  print(a+b)\n",
        "\n",
        "soma()\n"
      ]
    },
    {
      "cell_type": "code",
      "source": [
        "#Função com Argumentos\n",
        "\n",
        "def soma(valor1, valor2):\n",
        "  print(valor1 + valor2)"
      ],
      "metadata": {
        "id": "NVCA0FYcW1ph"
      },
      "execution_count": 1,
      "outputs": []
    },
    {
      "cell_type": "code",
      "source": [
        "#1) Faça um programa, com uma função que necessite de três argumentos, e que forneça \n",
        "#a multiplicação desses três argumentos.\n",
        "\n",
        "def mult (n1, n2, n3):\n",
        "    print(f'{n1} X {n2} X {n3} = {n1*n2*n3}')\n",
        "\n"
      ],
      "metadata": {
        "id": "mFiRT9QiXPaj"
      },
      "execution_count": 2,
      "outputs": []
    },
    {
      "cell_type": "code",
      "source": [
        "x1 = int(input('Digite um numero: '))\n",
        "x2 = int(input('Digite um numero: '))\n",
        "x3 = int(input('Digite um numero: '))\n",
        "mult(x1,x2,x3)"
      ],
      "metadata": {
        "id": "YKbMzKnflXsV",
        "colab": {
          "base_uri": "https://localhost:8080/"
        },
        "outputId": "8d8e255a-7fb9-407f-d63e-1ca7b705e6d1"
      },
      "execution_count": 3,
      "outputs": [
        {
          "output_type": "stream",
          "name": "stdout",
          "text": [
            "Digite um numero: 1\n",
            "Digite um numero: 4\n",
            "Digite um numero: 3\n",
            "1 X 4 X 3 = 12\n"
          ]
        }
      ]
    },
    {
      "cell_type": "code",
      "source": [
        "#2) Faça um programa que tenha uma função que necessite de um argumento que receba um número inteiro\n",
        "#e imprima na tela a lista de divisores desse número.\n",
        "\n",
        "def div (n1):\n",
        "  i = 1\n",
        "  for i in range (1,n1+1):\n",
        "    if n1 % i == 0:\n",
        "      print(i, end = ' ')\n"
      ],
      "metadata": {
        "id": "pDTMmLyXjTiq"
      },
      "execution_count": 4,
      "outputs": []
    },
    {
      "cell_type": "code",
      "source": [
        "x1 = int(input('Digite um numero: '))\n",
        "\n",
        "div(x1)"
      ],
      "metadata": {
        "id": "rUr7e4JFlfhQ",
        "colab": {
          "base_uri": "https://localhost:8080/"
        },
        "outputId": "ed94f6cd-06c7-48e2-d056-16d92224a5c9"
      },
      "execution_count": 5,
      "outputs": [
        {
          "output_type": "stream",
          "name": "stdout",
          "text": [
            "Digite um numero: 3\n",
            "1 3 "
          ]
        }
      ]
    },
    {
      "cell_type": "code",
      "source": [
        "#3) Faça uma função que recebe, por parâmetro, a altura (alt) e o sexo de uma pessoa e retorna o seu peso ideal.\n",
        "#Para homens, calcular o peso ideal usando a fórmula peso ideal = 72.7 x alt - 58 e, para mulheres, peso ideal = 62.1 x alt - 44.7.\n",
        "\n",
        "def peso_ideal (altura,sexo):\n",
        "  if sexo in 'Mm':\n",
        "    print(f'Peso ideal é {72.7 * altura - 58:.1f}')\n",
        "  elif sexo in 'Ff':\n",
        "    print(f'Peso ideal é {62.1 * altura - 44.7:.1f}')"
      ],
      "metadata": {
        "id": "UxzmbaxojS_k"
      },
      "execution_count": 6,
      "outputs": []
    },
    {
      "cell_type": "code",
      "source": [
        "\n",
        "sexo = str(input('Digite o eu sexo (M/F): '))\n",
        "altura = float(input('Digire a sua altura: '))\n",
        "peso_ideal(altura, sexo)"
      ],
      "metadata": {
        "id": "8k_XKbiKj7dA",
        "colab": {
          "base_uri": "https://localhost:8080/"
        },
        "outputId": "7911e061-675b-447e-9fc9-1bfb5a535f90"
      },
      "execution_count": 8,
      "outputs": [
        {
          "output_type": "stream",
          "name": "stdout",
          "text": [
            "Digite o eu sexo (M/F): m\n",
            "Digire a sua altura: 1.68\n",
            "Peso ideal é 64.1\n"
          ]
        }
      ]
    },
    {
      "cell_type": "code",
      "source": [
        "#Funções com retorno - return\n",
        "\n",
        "def soma(n1, n2):\n",
        "  return f' O valor da soma de {n1} + {n2} = {n1 + n2}'"
      ],
      "metadata": {
        "id": "SoLbgeA2zCrs"
      },
      "execution_count": 9,
      "outputs": []
    },
    {
      "cell_type": "code",
      "source": [
        "a = int(input('Digite o primeiro número: '))\n",
        "b = int(input('Digite o segundo número: '))\n",
        "\n",
        "s = soma(a, b)\n",
        "\n",
        "print(type(s))\n",
        "print(s)"
      ],
      "metadata": {
        "id": "EANk9L7o1p5p",
        "colab": {
          "base_uri": "https://localhost:8080/"
        },
        "outputId": "2ecaee01-c68e-43b4-e171-86c057e3fead"
      },
      "execution_count": 10,
      "outputs": [
        {
          "output_type": "stream",
          "name": "stdout",
          "text": [
            "Digite o primeiro número: 4\n",
            "Digite o segundo número: 6\n",
            "<class 'str'>\n",
            " O valor da soma de 4 + 6 = 10\n"
          ]
        }
      ]
    },
    {
      "cell_type": "code",
      "source": [
        "#Não sao declarados os parametros da funçao\n",
        "def soma(*valores):\n",
        "  print(list(valores))"
      ],
      "metadata": {
        "id": "ZHMsFVzC1rRn"
      },
      "execution_count": 11,
      "outputs": []
    },
    {
      "cell_type": "code",
      "source": [
        "soma()\n",
        "soma(1)\n",
        "soma(1, 2)\n",
        "soma(1, 2, 3, 4, 5)"
      ],
      "metadata": {
        "id": "nb8H6Pqr1tGP",
        "colab": {
          "base_uri": "https://localhost:8080/"
        },
        "outputId": "4f6c738a-ccc9-4b6c-da04-dd7442f1a2c2"
      },
      "execution_count": 12,
      "outputs": [
        {
          "output_type": "stream",
          "name": "stdout",
          "text": [
            "[]\n",
            "[1]\n",
            "[1, 2]\n",
            "[1, 2, 3, 4, 5]\n"
          ]
        }
      ]
    },
    {
      "cell_type": "code",
      "source": [
        "#Parâmetros nomeados\n",
        "def soma(numero3, numero1, numero2):\n",
        "  print(numero3)\n",
        "  print(numero1)\n",
        "  print(numero2)\n",
        "  #print(numero3 + numero1 + numero2)"
      ],
      "metadata": {
        "id": "Hp09za8l5TIz"
      },
      "execution_count": 16,
      "outputs": []
    },
    {
      "cell_type": "code",
      "source": [
        "n1 = 10\n",
        "n2 = 3\n",
        "n3 = 17\n",
        "\n",
        "soma(n1, n2, n3)"
      ],
      "metadata": {
        "id": "S1wz50cI5Ujx",
        "colab": {
          "base_uri": "https://localhost:8080/"
        },
        "outputId": "5f1b4539-2907-424f-e173-dd0e3e465727"
      },
      "execution_count": 18,
      "outputs": [
        {
          "output_type": "stream",
          "name": "stdout",
          "text": [
            "10\n",
            "3\n",
            "17\n"
          ]
        }
      ]
    },
    {
      "cell_type": "code",
      "source": [
        "#Parâmetros nomeados sem quantidade definida de argumentos **kwargs - Recebe os valores no formato dicionário\n",
        "def soma(**valores):\n",
        "  print(valores)"
      ],
      "metadata": {
        "id": "1q4NHV7-5WBL"
      },
      "execution_count": 19,
      "outputs": []
    },
    {
      "cell_type": "code",
      "source": [
        "n1 = 10\n",
        "n2 = 3\n",
        "n3 = 17\n",
        "\n",
        "soma(numero1 = n1, numero2 = n2, numero3 = n3)"
      ],
      "metadata": {
        "id": "Ai-FkbXQ5XVz",
        "colab": {
          "base_uri": "https://localhost:8080/"
        },
        "outputId": "fef76520-202b-4073-bbb2-2a76823816cb"
      },
      "execution_count": 20,
      "outputs": [
        {
          "output_type": "stream",
          "name": "stdout",
          "text": [
            "{'numero1': 10, 'numero2': 3, 'numero3': 17}\n"
          ]
        }
      ]
    },
    {
      "cell_type": "code",
      "source": [
        "#Colocar um valor padrão para um argumento\n",
        "def mostrar_na_tela(carro = 'Padrao'):\n",
        "  print(carro)"
      ],
      "metadata": {
        "id": "JQY37IML5Ynl"
      },
      "execution_count": 21,
      "outputs": []
    },
    {
      "cell_type": "code",
      "source": [
        "mostrar_na_tela('Gol')\n",
        "mostrar_na_tela('Uno')\n",
        "mostrar_na_tela('Corolla')\n",
        "mostrar_na_tela()"
      ],
      "metadata": {
        "id": "POmOZS5y5Z1a",
        "colab": {
          "base_uri": "https://localhost:8080/"
        },
        "outputId": "b6a92be9-1dc4-4893-b4f6-fed719ef3c7b"
      },
      "execution_count": 22,
      "outputs": [
        {
          "output_type": "stream",
          "name": "stdout",
          "text": [
            "Gol\n",
            "Uno\n",
            "Corolla\n",
            "Padrao\n"
          ]
        }
      ]
    },
    {
      "cell_type": "code",
      "source": [
        "#1) Construa um algoritmo em Python que leia dois valores numéricos inteiros e\n",
        "#efetue a adição dos mesmo através de uma função. Caso o resultado seja maior que 10, apresentá-lo a partir da própria função. \n",
        "\n",
        "def soma(n1, n2):\n",
        "  if n1 + n2 > 10:\n",
        "    print(f'Print dentro da função:\\n{n1+n2}')\n",
        "  else:\n",
        "    return ()"
      ],
      "metadata": {
        "id": "dqZaZ6enGZK2"
      },
      "execution_count": 23,
      "outputs": []
    },
    {
      "cell_type": "code",
      "source": [
        "#1) FUNC MAIN\n",
        "\n",
        "n1 = int(input('Digite um numero: '))\n",
        "n2 = int(input('Digite outro numero: '))\n",
        "\n",
        "a = soma(n1,n2)\n"
      ],
      "metadata": {
        "colab": {
          "base_uri": "https://localhost:8080/"
        },
        "id": "TljSOR-HISWg",
        "outputId": "a1e8fca2-2842-415a-bb38-ac828e7350b6"
      },
      "execution_count": 24,
      "outputs": [
        {
          "output_type": "stream",
          "name": "stdout",
          "text": [
            "Digite um numero: 5\n",
            "Digite outro numero: 7\n",
            "Print dentro da função:\n",
            "12\n"
          ]
        }
      ]
    },
    {
      "cell_type": "code",
      "source": [
        "#2) Construa um algoritmo em Python que leia um número inteiro N e através de uma função, exiba na tela se o número lido\n",
        "#é PAR ou ÍMPAR.\n",
        "\n",
        "def par_impar (n):\n",
        "  if n % 2 == 0:\n",
        "    print(f'{n} é Par')\n",
        "  else:\n",
        "    print(f'{n} é ímpar')\n",
        "  \n"
      ],
      "metadata": {
        "id": "n9y4qUxKGZC-"
      },
      "execution_count": 25,
      "outputs": []
    },
    {
      "cell_type": "code",
      "source": [
        "#2) FUNC MAIN\n",
        "while True:\n",
        "  n = int(input('Digite um numero: '))\n",
        "  if n != 0:\n",
        "    break\n",
        "par_impar(n)"
      ],
      "metadata": {
        "id": "n9uPrwdoKUY9",
        "colab": {
          "base_uri": "https://localhost:8080/"
        },
        "outputId": "7e8470b1-d280-4955-e0eb-31d09126190f"
      },
      "execution_count": 26,
      "outputs": [
        {
          "output_type": "stream",
          "name": "stdout",
          "text": [
            "Digite um numero: 5\n",
            "5 é ímpar\n"
          ]
        }
      ]
    },
    {
      "cell_type": "code",
      "source": [
        "#3) Escreva um algoritmo em Python que leia um número inteiro qualquer. Em seguida, utilizando uma função, verifique\n",
        "#se o mesmo é maior do que 20. Caso seja, retorne a mensagem 'Maior que 20' para uma variável e exiba a variável na tela.\n",
        "#Caso não seja, retorne a mensagem 'Menor que 20' para a mesma variável e a exiba na tela.\n",
        "def maior_menor(n):\n",
        "  if n > 20 :\n",
        "    return('Maior que 20')\n",
        "  elif n == 0 :\n",
        "    return('Iqual a 0')\n",
        "  elif n < 20 :\n",
        "    return('Menor que 20')\n",
        "  "
      ],
      "metadata": {
        "id": "ZBxWIcQUGY7q"
      },
      "execution_count": 27,
      "outputs": []
    },
    {
      "cell_type": "code",
      "source": [
        "#3) FUNC MAIN\n",
        "n = int(input('Digite um numero: '))\n",
        "res = maior_menor(n)\n",
        "print(res)"
      ],
      "metadata": {
        "id": "VYsDAjERLZ_i",
        "colab": {
          "base_uri": "https://localhost:8080/"
        },
        "outputId": "f36b53ec-7b1b-4bf5-c13d-a2f502572608"
      },
      "execution_count": 28,
      "outputs": [
        {
          "output_type": "stream",
          "name": "stdout",
          "text": [
            "Digite um numero: 5\n",
            "Menor que 20\n"
          ]
        }
      ]
    },
    {
      "cell_type": "code",
      "source": [
        "#4) Escreva um algoritmo em Python que leia um número N\n",
        "#e envie por argumentos para uma função. Dentro da função verifique se o número lido é POSITIVO, NEGATIVO ou NULO. Retorne\n",
        "#essa informação para uma variável do programa principal. Em seguida, exiba essa variável na tela.\n",
        "def sinal(n):\n",
        "  if n > 0 :\n",
        "    return('Maior que 0')\n",
        "  elif n == 0 :\n",
        "    return('Iqual a 0')\n",
        "  elif n < 0 :\n",
        "    return('Menor que 0')"
      ],
      "metadata": {
        "id": "kE98oqOiGY0C"
      },
      "execution_count": 29,
      "outputs": []
    },
    {
      "cell_type": "code",
      "source": [
        "#4) FUNC MAIN\n",
        "\n",
        "n = int(input('Digite um numero: '))\n",
        "res = sinal(n)\n",
        "print(res)"
      ],
      "metadata": {
        "id": "c0RdUaFhPuhc",
        "colab": {
          "base_uri": "https://localhost:8080/"
        },
        "outputId": "fb0495ea-93e3-4244-f9be-3d1f997dd2b8"
      },
      "execution_count": 30,
      "outputs": [
        {
          "output_type": "stream",
          "name": "stdout",
          "text": [
            "Digite um numero: 10\n",
            "Maior que 0\n"
          ]
        }
      ]
    },
    {
      "cell_type": "code",
      "source": [
        "#5) Escreva um algoritmo em Python que receba um número N inteiro e positivo. Em seguida, envie o número\n",
        "#por um argumento para uma função que verifique se o número lido “é múltiplo de 3” ou “não é múltiplo de 3”. Retorne essa\n",
        "#mensagem para uma variável no programa principal e a exiba na tela."
      ],
      "metadata": {
        "id": "lawRcuKkGYs0"
      },
      "execution_count": null,
      "outputs": []
    },
    {
      "cell_type": "code",
      "source": [
        "#(6) Faça um programa que leia um número n e imprima a seguinte saída na tela: \n",
        "\n",
        "#1\n",
        "#2 2\n",
        "#3 3 3\n",
        "#4 4 4 4\n",
        "#5 5 5 5 5\n",
        "#n n n n n ...... n"
      ],
      "metadata": {
        "id": "wpiCgJcOGYku"
      },
      "execution_count": null,
      "outputs": []
    },
    {
      "cell_type": "code",
      "source": [
        "#(7) Faça um programa que leia um número n e imprima a seguinte saída na tela: \n",
        "\n",
        "#1\n",
        "#1 2\n",
        "#1 2 3\n",
        "#1 2 3 4\n",
        "#1 2 3 4 5\n",
        "#n n n n n ...... n"
      ],
      "metadata": {
        "id": "_RS97-1WGYa-"
      },
      "execution_count": null,
      "outputs": []
    },
    {
      "cell_type": "code",
      "source": [
        "#(8) Faça um programa que use a função valorPagamento para determinar o valor a ser pago por uma prestação de uma conta.\n",
        "#O programa deverá solicitar ao usuário o valor da prestação e o número de dias em atraso e passar estes valores para a\n",
        "#função valorPagamento, que calculará o valor a ser pago e devolverá este valor ao programa que a chamou. O programa \n",
        "#deverá então exibir o valor a ser pago na tela. Após a execução o programa deverá voltar a pedir outro valor de\n",
        "#prestação e assim continuar até que seja informado um valor igual a zero para a prestação. Neste momento o programa\n",
        "#deverá ser encerrado, exibindo o relatório do dia, que conterá a quantidade e o valor total de prestações pagas no dia.\n",
        "#O cálculo do valor a ser pago é feito da seguinte forma. Para pagamentos sem atraso, cobrar o valor da prestação.\n",
        "#Quando houver atraso, cobrar 3% de multa, mais 0,1% de juros por dia de atraso.\n",
        "\n",
        "'''\n",
        "\n",
        "texto = 'Olá!'"
      ],
      "metadata": {
        "id": "_6y--zyoHRWX"
      },
      "execution_count": null,
      "outputs": []
    }
  ]
}