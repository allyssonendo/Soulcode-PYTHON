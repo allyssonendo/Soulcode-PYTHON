{
  "nbformat": 4,
  "nbformat_minor": 0,
  "metadata": {
    "colab": {
      "provenance": [],
      "authorship_tag": "ABX9TyMQF3M4Ud5HFXEoBkD8hmQk",
      "include_colab_link": true
    },
    "kernelspec": {
      "name": "python3",
      "display_name": "Python 3"
    },
    "language_info": {
      "name": "python"
    }
  },
  "cells": [
    {
      "cell_type": "markdown",
      "metadata": {
        "id": "view-in-github",
        "colab_type": "text"
      },
      "source": [
        "<a href=\"https://colab.research.google.com/github/allyssonendo/Soulcode-PYTHON/blob/main/PYTHON_Aula06(TUPLAS).ipynb\" target=\"_parent\"><img src=\"https://colab.research.google.com/assets/colab-badge.svg\" alt=\"Open In Colab\"/></a>"
      ]
    },
    {
      "cell_type": "code",
      "execution_count": null,
      "metadata": {
        "colab": {
          "base_uri": "https://localhost:8080/"
        },
        "id": "OpJd2JjpxKmq",
        "outputId": "f2d48384-18ab-4235-e358-dd7a3bee2106"
      },
      "outputs": [
        {
          "output_type": "stream",
          "name": "stdout",
          "text": [
            "('a', 'e', 'i', 'o', 'u')\n",
            "i\n"
          ]
        },
        {
          "output_type": "execute_result",
          "data": {
            "text/plain": [
              "1"
            ]
          },
          "metadata": {},
          "execution_count": 7
        }
      ],
      "source": [
        "#Tuplas são listas indexavies e imutaveis\n",
        "\n",
        "vogais = ('a', 'e','i', 'o', 'u')\n",
        "\n",
        "print(vogais)\n",
        "print(vogais[2])\n",
        "type(vogais)\n",
        "\n",
        "#Tamanho da tupla\n",
        "len(vogais)\n",
        "\n",
        "#Contar qtde de determinado valor\n",
        "vogais.count('a')\n"
      ]
    },
    {
      "cell_type": "code",
      "source": [
        "lista = list(vogais)\n",
        "\n",
        "print(lista)\n",
        "type(lista)"
      ],
      "metadata": {
        "colab": {
          "base_uri": "https://localhost:8080/"
        },
        "id": "emskbJR2x-g4",
        "outputId": "73035cbd-c3b1-4829-e661-2f8933be40d4"
      },
      "execution_count": null,
      "outputs": [
        {
          "output_type": "stream",
          "name": "stdout",
          "text": [
            "['a', 'e', 'i', 'o', 'u']\n"
          ]
        },
        {
          "output_type": "execute_result",
          "data": {
            "text/plain": [
              "list"
            ]
          },
          "metadata": {},
          "execution_count": 4
        }
      ]
    }
  ]
}