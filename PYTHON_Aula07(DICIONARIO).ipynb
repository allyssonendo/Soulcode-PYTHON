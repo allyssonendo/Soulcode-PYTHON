{
  "nbformat": 4,
  "nbformat_minor": 0,
  "metadata": {
    "colab": {
      "provenance": [],
      "authorship_tag": "ABX9TyNAC+tkNTcdiyqEq+aEQPSv",
      "include_colab_link": true
    },
    "kernelspec": {
      "name": "python3",
      "display_name": "Python 3"
    },
    "language_info": {
      "name": "python"
    }
  },
  "cells": [
    {
      "cell_type": "markdown",
      "metadata": {
        "id": "view-in-github",
        "colab_type": "text"
      },
      "source": [
        "<a href=\"https://colab.research.google.com/github/allyssonendo/Soulcode-PYTHON/blob/main/PYTHON_Aula07(DICIONARIO).ipynb\" target=\"_parent\"><img src=\"https://colab.research.google.com/assets/colab-badge.svg\" alt=\"Open In Colab\"/></a>"
      ]
    },
    {
      "cell_type": "code",
      "execution_count": 1,
      "metadata": {
        "id": "VCBrIvmD0LHa",
        "colab": {
          "base_uri": "https://localhost:8080/",
          "height": 36
        },
        "outputId": "a0a23b60-c5fb-4fc1-e2d4-000cba249928"
      },
      "outputs": [
        {
          "output_type": "execute_result",
          "data": {
            "text/plain": [
              "'Joaquim'"
            ],
            "application/vnd.google.colaboratory.intrinsic+json": {
              "type": "string"
            }
          },
          "metadata": {},
          "execution_count": 1
        }
      ],
      "source": [
        "'''\n",
        "No caso de dicionarios no lugar de indices havera chaves para acessar um valor\n",
        "'''\n",
        "\n",
        "#Declarando um dicionario\n",
        "\n",
        "dic = {}\n",
        "\n",
        "pessoa = {'nome':'Joaquim','telefone':'(11)000000000','CPF':'123456789'}\n",
        "\n",
        "pessoa['nome']\n",
        "\n",
        "\n"
      ]
    },
    {
      "cell_type": "code",
      "source": [
        "telefones = ['(11)9.0000-0000', '(21)9.0000-0000', '(31)9.0000-0000']\n",
        "\n",
        "telefones = {'sp':['(11)9.0000-0000', '(11)9.0000-0000', '(11)9.0000-0000'], \n",
        "             'rj':'(21)9.0000-0000', \n",
        "             'mg':'(31)9.0000-0000'}\n",
        "\n",
        "print(telefones['sp'])\n",
        "\n",
        "type(telefones['sp'])\n",
        "\n",
        "for valor in telefones['sp']:\n",
        "  print(valor)"
      ],
      "metadata": {
        "id": "bmodaDIt_tIb",
        "colab": {
          "base_uri": "https://localhost:8080/"
        },
        "outputId": "738b729c-ea3d-4411-904b-726c07ad51ce"
      },
      "execution_count": 2,
      "outputs": [
        {
          "output_type": "stream",
          "name": "stdout",
          "text": [
            "['(11)9.0000-0000', '(11)9.0000-0000', '(11)9.0000-0000']\n",
            "(11)9.0000-0000\n",
            "(11)9.0000-0000\n",
            "(11)9.0000-0000\n"
          ]
        }
      ]
    },
    {
      "cell_type": "code",
      "source": [
        "# criar um dicionário contendo nome, modelo e marca de um carro\n",
        "# Como ficaria para colocar 4 carros?\n",
        "\n",
        "carros = {'nome': 'Gol', 'modelo': 'G4', 'marca': 'volkswagen'}\n",
        "\n",
        "print(carros)\n",
        "\n",
        "print(carros['nome'])\n",
        "print(carros['modelo'])\n",
        "print(carros['marca'])\n"
      ],
      "metadata": {
        "id": "RlvXoM2X-qxF",
        "colab": {
          "base_uri": "https://localhost:8080/"
        },
        "outputId": "5d49de18-3c0b-4259-ae36-efad9c4d43c0"
      },
      "execution_count": 3,
      "outputs": [
        {
          "output_type": "stream",
          "name": "stdout",
          "text": [
            "{'nome': 'Gol', 'modelo': 'G4', 'marca': 'volkswagen'}\n",
            "Gol\n",
            "G4\n",
            "volkswagen\n"
          ]
        }
      ]
    },
    {
      "cell_type": "code",
      "source": [
        "#Cria um dicionario dentro de uma lista\n",
        "\n",
        "lista_carros = [\n",
        "    {'nome': 'Gol', 'modelo': 'G4', 'marca': 'volkswagen'},\n",
        "    {'nome': 'Hylux', 'modelo': 'SW4', 'marca': 'to'},\n",
        "    {'nome': 'Gol', 'modelo': 'G4', 'marca': 'volkswagen'},\n",
        "    {'nome': 'Gol', 'modelo': 'G4', 'marca': 'volkswagen'}\n",
        "]\n",
        "\n",
        "for valor in lista_carros:\n",
        "  print(valor)\n",
        "\n",
        "for valor in lista_carros:\n",
        "  print(f\"O carro {valor['nome']} do modelo {valor['modelo']} e da marca {valor['marca']}\")\n"
      ],
      "metadata": {
        "id": "LyqFUabSBOW3",
        "colab": {
          "base_uri": "https://localhost:8080/"
        },
        "outputId": "c218c8db-cceb-4ede-8582-02b60fdb9d71"
      },
      "execution_count": 4,
      "outputs": [
        {
          "output_type": "stream",
          "name": "stdout",
          "text": [
            "{'nome': 'Gol', 'modelo': 'G4', 'marca': 'volkswagen'}\n",
            "{'nome': 'Hylux', 'modelo': 'SW4', 'marca': 'to'}\n",
            "{'nome': 'Gol', 'modelo': 'G4', 'marca': 'volkswagen'}\n",
            "{'nome': 'Gol', 'modelo': 'G4', 'marca': 'volkswagen'}\n",
            "O carro Gol do modelo G4 e da marca volkswagen\n",
            "O carro Hylux do modelo SW4 e da marca to\n",
            "O carro Gol do modelo G4 e da marca volkswagen\n",
            "O carro Gol do modelo G4 e da marca volkswagen\n"
          ]
        }
      ]
    },
    {
      "cell_type": "code",
      "source": [
        "#Criando uma lista dentro de um dicionario\n",
        "carro = {'nome': ['Chevette','Fusca','Lamborghini','Ferrari'],\n",
        "         'modelo':['celta','uno','hb20','toyota'],\n",
        "         'marca':['chevrolet', 'fiat', 'hinday', 'toyota']   \n",
        "}\n",
        "print(carro['nome'])\n",
        "\n"
      ],
      "metadata": {
        "id": "OEcjbsNcCq4a",
        "colab": {
          "base_uri": "https://localhost:8080/"
        },
        "outputId": "98520108-5dec-4e67-9f45-229b0d6c2e4b"
      },
      "execution_count": 27,
      "outputs": [
        {
          "output_type": "stream",
          "name": "stdout",
          "text": [
            "['Chevette', 'Fusca', 'Lamborghini', 'Ferrari']\n"
          ]
        }
      ]
    },
    {
      "cell_type": "code",
      "source": [
        "# Dicionario dentro de um dicionario\n",
        "# Uma família possui 3 filhos, cada um dos filhos deve ser chamado da seguinte maneira:\n",
        "# filho1, filho2, filho3\n",
        "# Para cada um devem ter anotados dados sobre o nome, idade, o ano da escola e os cursos que fizeram\n",
        "\n",
        "lista_filhos = {\n",
        "    'filho1' : {\n",
        "        'nome' : 'Patrick Silva',\n",
        "        'idade': 15,\n",
        "        'ano_escola' : 1,\n",
        "        'cursos' : ['Python', 'Banco de Dados', 'Análise de Dados com Python']\n",
        "    },\n",
        "\n",
        "    'filho2' : {\n",
        "        'nome' : 'Melissa da Silva',\n",
        "        'idade': 16,\n",
        "        'ano_escola' : 2,\n",
        "        'cursos' : ['Java Fullstack', 'Banco de Dados NoSQL']\n",
        "    },\n",
        "\n",
        "   'filho3' : {\n",
        "        'nome' : 'Juscelino da Silva',\n",
        "        'idade': 17,\n",
        "        'ano_escola' : 3,\n",
        "        'cursos' : ['Python', 'Banco de Dados', 'Análise de Dados com Python']\n",
        "    }\n",
        "}"
      ],
      "metadata": {
        "id": "imPc7SHAEUEk"
      },
      "execution_count": 6,
      "outputs": []
    },
    {
      "cell_type": "code",
      "source": [
        "print(lista_filhos['filho1'])\n",
        "\n",
        "print(lista_filhos['filho1']['cursos'])\n",
        "\n",
        "print(lista_filhos['filho1']['cursos'][1])\n",
        "\n"
      ],
      "metadata": {
        "id": "BFzP7quKF0Jg",
        "colab": {
          "base_uri": "https://localhost:8080/"
        },
        "outputId": "1a8d0797-28ae-43c7-906f-fad687551fed"
      },
      "execution_count": 7,
      "outputs": [
        {
          "output_type": "stream",
          "name": "stdout",
          "text": [
            "{'nome': 'Patrick Silva', 'idade': 15, 'ano_escola': 1, 'cursos': ['Python', 'Banco de Dados', 'Análise de Dados com Python']}\n",
            "['Python', 'Banco de Dados', 'Análise de Dados com Python']\n",
            "Banco de Dados\n"
          ]
        }
      ]
    },
    {
      "cell_type": "code",
      "source": [
        "#INSERIR UM NOVO CONJUNTO CHAVE:VALOR EM UM DICIONÁRIO EXISTENTE\n",
        "# cor: 'azul' , qtd_portas : 5\n",
        "\n",
        "carros = {'nome': 'Gol', 'modelo': 'G4', 'marca': 'volkswagen'}\n",
        "\n",
        "carros['cor'] = 'azul'\n",
        "carros['qtd_portas'] = 5"
      ],
      "metadata": {
        "id": "2-FETt7uZ0oE"
      },
      "execution_count": 8,
      "outputs": []
    },
    {
      "cell_type": "code",
      "source": [
        "print(carros)"
      ],
      "metadata": {
        "id": "5g5-b9ICepq1",
        "colab": {
          "base_uri": "https://localhost:8080/"
        },
        "outputId": "b609f14a-c9f5-4ab9-c40f-4ee78a5a51bd"
      },
      "execution_count": 9,
      "outputs": [
        {
          "output_type": "stream",
          "name": "stdout",
          "text": [
            "{'nome': 'Gol', 'modelo': 'G4', 'marca': 'volkswagen', 'cor': 'azul', 'qtd_portas': 5}\n"
          ]
        }
      ]
    },
    {
      "cell_type": "code",
      "source": [
        "carros['modelo'] = input('Digite o modelo do carro: ')\n",
        "\n",
        "print(carros)"
      ],
      "metadata": {
        "id": "-CuCGh1meqxU"
      },
      "execution_count": null,
      "outputs": []
    },
    {
      "cell_type": "code",
      "source": [
        "#2ª FORMA DE INSERÇÃO - update\n",
        "\n",
        "carros.update({'cor':'amarelo', 'qtd_portas':3, 'modelo':'G10'})\n",
        "\n",
        "for k, v in carro.items():\n",
        "  print(f'Chave: {k} Valor: {v}')\n"
      ],
      "metadata": {
        "id": "3jt7xdbKer4U",
        "colab": {
          "base_uri": "https://localhost:8080/"
        },
        "outputId": "1babdec2-a1b0-43e3-bb82-320e21285620"
      },
      "execution_count": 28,
      "outputs": [
        {
          "output_type": "stream",
          "name": "stdout",
          "text": [
            "Chave: nome Valor: ['Chevette', 'Fusca', 'Lamborghini', 'Ferrari']\n",
            "Chave: modelo Valor: ['celta', 'uno', 'hb20', 'toyota']\n",
            "Chave: marca Valor: ['chevrolet', 'fiat', 'hinday', 'toyota']\n"
          ]
        }
      ]
    },
    {
      "cell_type": "code",
      "source": [
        "#Criar um dicionário de carro - nome, modelo, fabricante, cor via input do usuário e depois mostre o dicionário na tela\n",
        "\n",
        "carro = {}\n",
        "\n",
        "carro['nome'] = input('Nome do carro: ')\n",
        "carro['modelo'] = input('Modelo do carro: ')\n",
        "carro['fabricante'] = input('Fabricante do carro: ')\n",
        "carro['cor'] = input('Cor do carro: ')\n",
        "\n",
        "print(carro)"
      ],
      "metadata": {
        "id": "w3w046eiezrA"
      },
      "execution_count": null,
      "outputs": []
    },
    {
      "cell_type": "code",
      "source": [
        "#Criar um dicionário de carro - nome, modelo, fabricante, cor via input do usuário e depois mostre o dicionário na tela ***SEGUNDO METODO***\n",
        "carro = {}\n",
        "\n",
        "nome = input('Digite o nome do carro: ')\n",
        "modelo =  input('Digite o modelo do carro: ')\n",
        "fabricante = input('Digite o fabricante do carro: ')\n",
        "cor = input('Digite a cor do carro: ')\n",
        "\n",
        "carro.update({'nome': nome, 'modelo':modelo, 'fabricante':fabricante, 'cor':cor})\n",
        "\n",
        "print(carro['nome'])\n",
        "\n",
        "print(carro.get('nome'))"
      ],
      "metadata": {
        "id": "tyKXlquDhg_f"
      },
      "execution_count": null,
      "outputs": []
    },
    {
      "cell_type": "code",
      "source": [
        "#ALTERAR O DICIONÁRIO\n",
        "carro['nome'] = 'NovoNome'\n",
        "#Caso ja exista a chave ela ira ser alterada\n",
        "carro.update({'nome':'NovoNome'})"
      ],
      "metadata": {
        "id": "A_cS3igGh3ai"
      },
      "execution_count": 14,
      "outputs": []
    },
    {
      "cell_type": "code",
      "source": [
        "#REMOVER UM CONJUNTO CHAVE:VALOR DO DICIONÁRIO pop(), del, popitem() \n",
        "carro = {'nome': 'Gol', 'modelo': 'G5', 'fabricante': 'Volks', 'cor': 'Branco'}\n",
        "#comando pop remove o conjunto chave e valor de uma chave\n",
        "print(carro)\n",
        "\n",
        "carro.pop('modelo')\n",
        "\n",
        "print(carro)\n",
        "\n",
        "#REMOVE O ÚLTIMO CONJUNTO CHAVE:VALOR popitem()\n",
        "\n",
        "carro.popitem()\n",
        "\n",
        "print(carro)\n",
        "\n",
        "#Limpa o dicionario\n",
        "carro.clear()\n",
        "print(carro)\n",
        "\n",
        "\n",
        "#Deleta o dicionario carro\n",
        "\"\"\"\n",
        "del carro\n",
        "\n",
        "print(carro)\n",
        "\"\"\""
      ],
      "metadata": {
        "id": "zCzJ8AYkiw7j",
        "colab": {
          "base_uri": "https://localhost:8080/",
          "height": 105
        },
        "outputId": "55182e34-2d19-410d-d24e-816ff8aef6bf"
      },
      "execution_count": 15,
      "outputs": [
        {
          "output_type": "stream",
          "name": "stdout",
          "text": [
            "{'nome': 'Gol', 'modelo': 'G5', 'fabricante': 'Volks', 'cor': 'Branco'}\n",
            "{'nome': 'Gol', 'fabricante': 'Volks', 'cor': 'Branco'}\n",
            "{'nome': 'Gol', 'fabricante': 'Volks'}\n",
            "{}\n"
          ]
        },
        {
          "output_type": "execute_result",
          "data": {
            "text/plain": [
              "'\\ndel carro\\n\\nprint(carro)\\n'"
            ],
            "application/vnd.google.colaboratory.intrinsic+json": {
              "type": "string"
            }
          },
          "metadata": {},
          "execution_count": 15
        }
      ]
    },
    {
      "cell_type": "code",
      "source": [
        "carro = {'nome': 'Gol', 'modelo': 'G5', 'fabricante': 'Volks', 'cor': 'Branco'}\n",
        "\n",
        "# carro2 = carro seria apenas o apontamento de carro2 a carro, não seria feito uma copia\n",
        "\n",
        "#copia de dicionario\n",
        "#carro2 = carro.copy()\n",
        "carro2 = dict(carro)\n",
        "print(carro2)\n"
      ],
      "metadata": {
        "id": "LkU1TH1RnEbA",
        "colab": {
          "base_uri": "https://localhost:8080/"
        },
        "outputId": "9de946fc-c308-44b1-b879-082851a4a2cb"
      },
      "execution_count": 16,
      "outputs": [
        {
          "output_type": "stream",
          "name": "stdout",
          "text": [
            "{'nome': 'Gol', 'modelo': 'G5', 'fabricante': 'Volks', 'cor': 'Branco'}\n"
          ]
        }
      ]
    },
    {
      "cell_type": "code",
      "source": [
        "#PERCORRENDO O DICIONÁRIO\n",
        "carro = {'nome': 'Gol', 'modelo': 'G5', 'fabricante': 'Volks', 'cor': 'Branco'}\n",
        "#for chave in carro:\n",
        "#  print(chave, carro[chave])\n",
        "\n",
        "for k, v in carro.items():\n",
        "  print(f'Chave: {k} Valor: {v}')\n",
        "\n",
        "#retorna as chaves\n",
        "\n",
        "carro.keys()"
      ],
      "metadata": {
        "id": "W1X9ohHroI1j",
        "colab": {
          "base_uri": "https://localhost:8080/"
        },
        "outputId": "0f45ad32-05a5-4449-bc09-737cee0895dd"
      },
      "execution_count": 17,
      "outputs": [
        {
          "output_type": "stream",
          "name": "stdout",
          "text": [
            "Chave: nome Valor: Gol\n",
            "Chave: modelo Valor: G5\n",
            "Chave: fabricante Valor: Volks\n",
            "Chave: cor Valor: Branco\n"
          ]
        },
        {
          "output_type": "execute_result",
          "data": {
            "text/plain": [
              "dict_keys(['nome', 'modelo', 'fabricante', 'cor'])"
            ]
          },
          "metadata": {},
          "execution_count": 17
        }
      ]
    },
    {
      "cell_type": "code",
      "source": [
        "#RETORNA UMA LISTA COM AS CHAVES DO DICIONÁRIO\n",
        "#print(carro.keys())\n",
        "\n",
        "for chave in carro.keys():\n",
        "  print(chave)\n",
        "\n",
        "#RETORNA UMA LISTA COM OS VALORES DO DICIONÁRIO\n",
        "\n",
        "print(carro.values())\n",
        "\n",
        "for valor in carro.values():\n",
        "  print(valor)\n",
        "\n",
        "#RETORNA UMA LISTA COM TODAS AS CHAVES E VALORES DO DICIONÁRIO\n",
        "\n",
        "print(carro.items())\n",
        "\n",
        "for chave, valor in carro.items():\n",
        "  print(f'{chave} = {valor}')"
      ],
      "metadata": {
        "id": "oTP2mJfytiMQ",
        "colab": {
          "base_uri": "https://localhost:8080/"
        },
        "outputId": "6b4cdd36-d4b3-4e68-b010-e4114921a2a3"
      },
      "execution_count": 18,
      "outputs": [
        {
          "output_type": "stream",
          "name": "stdout",
          "text": [
            "nome\n",
            "modelo\n",
            "fabricante\n",
            "cor\n",
            "dict_values(['Gol', 'G5', 'Volks', 'Branco'])\n",
            "Gol\n",
            "G5\n",
            "Volks\n",
            "Branco\n",
            "dict_items([('nome', 'Gol'), ('modelo', 'G5'), ('fabricante', 'Volks'), ('cor', 'Branco')])\n",
            "nome = Gol\n",
            "modelo = G5\n",
            "fabricante = Volks\n",
            "cor = Branco\n"
          ]
        }
      ]
    },
    {
      "cell_type": "code",
      "source": [
        "#Criar o mesmo esquema anterior, só que para N carros - Digite s para sair ou qualquer tecla para continuar! dicionario dentro de uma lista\n",
        "lista = []\n",
        "carro = {}\n",
        "\n",
        "while True:\n",
        "  carro.clear()\n",
        "  carro['nome'] = input('Nome do carro: ')\n",
        "  carro['modelo'] =  input('Modelo do carro: ')\n",
        "  carro['fabricante'] = input('Fabricante do carro: ')\n",
        "  carro['cor'] = input('Cor do carro: ')\n",
        "  lista.append(carro.copy())\n",
        "  op = input('Deseja sair? (S/s para sair)')\n",
        "  if op in 'Ss':\n",
        "    break\n",
        "\n",
        "for i in lista:\n",
        "  print(i)\n"
      ],
      "metadata": {
        "id": "vmUaDorctx7a"
      },
      "execution_count": null,
      "outputs": []
    },
    {
      "cell_type": "code",
      "source": [
        "#Outro meio de fazer o exercicio dicionario dentro de uma lista\n",
        "carros = []\n",
        "\n",
        "while True:\n",
        "  carros.append({\n",
        "      'nome': input('Digite o nome do carro: '),\n",
        "      'modelo': input('Digite o modelo do carro: '),\n",
        "      'fabricante': input('Digite o fabricante do carro: '),\n",
        "      'cor': input('Digite a cor do carro: ')\n",
        "  })\n",
        "\n",
        "  controle = input('Digite s para sair ou qualquer tecla para continuar: ')\n",
        "  if controle.lower() == 's':\n",
        "    break\n",
        "\n",
        "print(carros)"
      ],
      "metadata": {
        "id": "6KPLDMTa2KKn"
      },
      "execution_count": null,
      "outputs": []
    },
    {
      "cell_type": "code",
      "source": [
        "s#Criar o mesmo esquema anterior, só que para N carros - Digite s para sair ou qualquer tecla para continuar!\n",
        "# UTILIZANDO UM CÓDIGO DO TIPO STRING COMO CHAVE\n",
        "\n",
        "#Dicionario dentro de um dicionario\n",
        "\n",
        "carros = {}\n",
        "\n",
        "while True:\n",
        "  codigo = input('Digite o código do veículo: ')\n",
        "  c = {}\n",
        "  c.update({'nome': input('Digite o nome do carro'), \n",
        "            'modelo': input('Digite o modelo do carro: '),\n",
        "            'fabricante':input('Digite o fabricante do carro: '),\n",
        "            'cor': input('Digite a cor do carro')}) \n",
        "  \n",
        "  carros.update({codigo:c})\n",
        "  \n",
        "  #Segundo modo de fazer um inserção no dicionario dentro de um dicionario\n",
        "  #codigo = input('Digite o código do veículo: ')\n",
        "  #carros[codigo] = {'nome': input('Digite o nome do carro'), \n",
        "  #          'modelo': input('Digite o modelo do carro: '),\n",
        "  #          'fabricante':input('Digite o fabricante do carro: '),\n",
        "  #          'cor': input('Digite a cor do carro')}\n",
        "  controle = input('Digite s para sair ou qualquer tecla para continuar: ')\n",
        "  if controle.lower() == 's':\n",
        "    break\n",
        "\n",
        "for chave, valor in carros.items():\n",
        "  print(f'{chave} = {valor}')"
      ],
      "metadata": {
        "id": "QPW-mOb8BScg"
      },
      "execution_count": null,
      "outputs": []
    }
  ]
}