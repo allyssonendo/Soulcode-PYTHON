{
  "nbformat": 4,
  "nbformat_minor": 0,
  "metadata": {
    "colab": {
      "provenance": [],
      "authorship_tag": "ABX9TyPX003pnvvWak1cHrbv76ac",
      "include_colab_link": true
    },
    "kernelspec": {
      "name": "python3",
      "display_name": "Python 3"
    },
    "language_info": {
      "name": "python"
    }
  },
  "cells": [
    {
      "cell_type": "markdown",
      "metadata": {
        "id": "view-in-github",
        "colab_type": "text"
      },
      "source": [
        "<a href=\"https://colab.research.google.com/github/allyssonendo/Soulcode-PYTHON/blob/main/PYTHON_Aula05(LISTAS).ipynb\" target=\"_parent\"><img src=\"https://colab.research.google.com/assets/colab-badge.svg\" alt=\"Open In Colab\"/></a>"
      ]
    },
    {
      "cell_type": "code",
      "execution_count": 1,
      "metadata": {
        "id": "ywQER7SuP7eQ"
      },
      "outputs": [],
      "source": [
        "#Criando uma lista vazia\n",
        "lista = []\n",
        "#Criando uma lista com elementos\n",
        "carros = ['Corola', 'Gol', 'Uno com escada']\n",
        "preços = [2.80, 7.95, 1.05]\n",
        "inteiros = [10, 26, 8, 71]\n",
        "misturado = [10,'Joao',2.70]\n",
        "listamaior = ['Nome',['Endereço','Escolaridade']]"
      ]
    },
    {
      "cell_type": "code",
      "source": [
        "#Adcionar elementos a uma lista\n",
        "\n",
        "frutas = ['Banana','Abacate']\n",
        "print(frutas[1])\n",
        "\n",
        "frutas [1] = 'Amora'\n",
        "print(frutas)\n",
        "\n",
        "#Adcionando um valor no final da lista (aceita só um parametro)\n",
        "frutas.append('Uva')\n",
        "print(frutas)\n",
        "\n",
        "#Adcionando em qualquer lugar da lista\n",
        "\n",
        "frutas.insert(0,'Jaca')\n",
        "\n",
        "print(frutas)\n",
        "\n",
        "#Adcionar dados de uma lista a outra\n",
        "frutas1 = ['Banana','Abacate']\n",
        "frutas2 = ['Uva','Jaca']\n",
        "\n",
        "frutas1.extend(frutas2)\n",
        "print(frutas1)\n",
        "\n",
        "#Remove pelo indice de uma lista (pop)\n",
        "\n",
        "frutas1.pop(3)\n",
        "print(frutas1)\n",
        "\n",
        "#Remove um indice por um elemento (remove)\n",
        "frutas1.remove('Abacate')\n",
        "print(frutas1)\n",
        "\n",
        "#Remove um indice por um elemento ou uma lista (del)\n",
        "del frutas1[0]\n",
        "print(frutas1)\n",
        "\n",
        "#remove a lista inteira\n",
        "#del frutas1\n",
        "\n",
        "#Deleta os dados da lista\n",
        "#frutas1.clear()\n",
        "#print(frutas1)\n",
        "\n",
        "#Cria um backup de uma lista\n",
        "frutas_bkp = frutas1.copy()\n",
        "print(frutas_bkp)\n",
        "\n",
        "#Cria um ponteiro para uma lista (As alterações ocorrem nas 2 listas)\n",
        "frutas1.append('TESTE')\n",
        "print(frutas1)\n",
        "frutas_teste = frutas1\n",
        "print(frutas_teste)"
      ],
      "metadata": {
        "id": "x9IoyWu1aw09",
        "colab": {
          "base_uri": "https://localhost:8080/"
        },
        "outputId": "cf993ccd-0104-4e55-efc5-3eb58240b73b"
      },
      "execution_count": 2,
      "outputs": [
        {
          "output_type": "stream",
          "name": "stdout",
          "text": [
            "Abacate\n",
            "['Banana', 'Amora']\n",
            "['Banana', 'Amora', 'Uva']\n",
            "['Jaca', 'Banana', 'Amora', 'Uva']\n",
            "['Banana', 'Abacate', 'Uva', 'Jaca']\n",
            "['Banana', 'Abacate', 'Uva']\n",
            "['Banana', 'Uva']\n",
            "['Uva']\n",
            "['Uva']\n",
            "['Uva', 'TESTE']\n",
            "['Uva', 'TESTE']\n"
          ]
        }
      ]
    },
    {
      "cell_type": "code",
      "source": [
        "#Percorrer elementos de uma lista\n",
        "\n",
        "frutas = ['Banana', 'Abacate', 'Uva', 'Jaca']\n",
        "\n",
        "print(len(frutas))\n",
        "for i in frutas:\n",
        "  print(i,end =' ')\n",
        "print('\\n')\n",
        "\n",
        "for i in range(len(frutas)):\n",
        "  print(frutas[i],end = ' ')\n",
        "print('\\n')\n",
        "\n",
        "i = 0\n",
        "while i < len(frutas):\n",
        "  print(frutas[i],end = ' ')\n",
        "  i = i + 1\n",
        "print('\\n')\n",
        "\n",
        "#Metodo para ordenação\n",
        "\n",
        "frutas.sort()\n",
        "print(frutas)\n",
        "\n",
        "#Ordena a lista ao contrario (DECRESCENTE)\n",
        "\n",
        "frutas.sort(reverse=True)\n",
        "print(frutas)\n",
        "\n",
        "#outro modo de oredenar a lista ao contrário\n",
        "\n",
        "frutas.reverse()\n",
        "print(frutas)\n"
      ],
      "metadata": {
        "id": "tmeY9958lybz",
        "colab": {
          "base_uri": "https://localhost:8080/"
        },
        "outputId": "c10af91f-42e4-4906-d424-caffe1313689"
      },
      "execution_count": 3,
      "outputs": [
        {
          "output_type": "stream",
          "name": "stdout",
          "text": [
            "4\n",
            "Banana Abacate Uva Jaca \n",
            "\n",
            "Banana Abacate Uva Jaca \n",
            "\n",
            "Banana Abacate Uva Jaca \n",
            "\n",
            "['Abacate', 'Banana', 'Jaca', 'Uva']\n",
            "['Uva', 'Jaca', 'Banana', 'Abacate']\n",
            "['Abacate', 'Banana', 'Jaca', 'Uva']\n"
          ]
        }
      ]
    },
    {
      "cell_type": "code",
      "source": [
        "#1) Faça um Programa que leia uma lista de 5 números inteiros e mostre-os.\n",
        "lista = []\n",
        "\n",
        "for i in range(5):\n",
        "  lista.append(int(input(f'Digite o {i+1} numero: ')))\n",
        "\n",
        "for j in lista:\n",
        "  print(j, end = ' ')\n"
      ],
      "metadata": {
        "id": "tH5s2F67t6lT",
        "colab": {
          "base_uri": "https://localhost:8080/"
        },
        "outputId": "a12f215c-97cd-42fe-acbf-a51ec9315610"
      },
      "execution_count": 4,
      "outputs": [
        {
          "output_type": "stream",
          "name": "stdout",
          "text": [
            "Digite o 1 numero: 3\n",
            "Digite o 2 numero: 5\n",
            "Digite o 3 numero: 2\n",
            "Digite o 4 numero: 6\n",
            "Digite o 5 numero: 1\n",
            "3 5 2 6 1 "
          ]
        }
      ]
    },
    {
      "cell_type": "code",
      "source": [
        "#2) Faça um Programa que leia uma lista de 10 números reais e mostre-os na ordem inversa.\n",
        "lista = []\n",
        "for i in range (10):\n",
        "  lista.append(int(input('Digite um numero: ')))\n",
        "\n",
        "lista.reverse()\n",
        "\n",
        "for i in lista:\n",
        "  print(i, end = ' ')\n",
        "\n"
      ],
      "metadata": {
        "id": "DI8QSy9yt8HK",
        "colab": {
          "base_uri": "https://localhost:8080/"
        },
        "outputId": "b6c41ade-daa5-4828-a7ab-252dd56fc2d6"
      },
      "execution_count": 5,
      "outputs": [
        {
          "output_type": "stream",
          "name": "stdout",
          "text": [
            "Digite um numero: 1\n",
            "Digite um numero: 2\n",
            "Digite um numero: 3\n",
            "Digite um numero: 4\n",
            "Digite um numero: 5\n",
            "Digite um numero: 6\n",
            "Digite um numero: 7\n",
            "Digite um numero: 8\n",
            "Digite um numero: 9\n",
            "Digite um numero: 10\n",
            "10 9 8 7 6 5 4 3 2 1 "
          ]
        }
      ]
    },
    {
      "cell_type": "code",
      "source": [
        "#3) Faça um Programa que leia 4 notas de aluno e armazene-as dentro de uma lista. Em seguida mostre as notas e a média das notas na tela.\n",
        "lista = []\n",
        "media = 0\n",
        "\n",
        "for i in range (1,5):\n",
        "  lista.append(float(input(f'Digite a {i} nota: ')))\n",
        "  media = media + lista[i-1]\n",
        "media = media/4\n",
        "\n",
        "print(f'Os valores presentes na lista são :', end = ' ')\n",
        "for i in lista:\n",
        "  print(i, end = ' ')\n",
        "print('')\n",
        "print(f'A media das notas é {media}')\n"
      ],
      "metadata": {
        "id": "WtfDz1ARt9ra",
        "colab": {
          "base_uri": "https://localhost:8080/"
        },
        "outputId": "1261d522-2896-4ef1-ab6e-300295dffcde"
      },
      "execution_count": 6,
      "outputs": [
        {
          "output_type": "stream",
          "name": "stdout",
          "text": [
            "Digite a 1 nota: 9.7\n",
            "Digite a 2 nota: 3.5\n",
            "Digite a 3 nota: 3\n",
            "Digite a 4 nota: 5\n",
            "Os valores presentes na lista são : 9.7 3.5 3.0 5.0 \n",
            "A media das notas é 5.3\n"
          ]
        }
      ]
    },
    {
      "cell_type": "code",
      "source": [
        "#4) Faça um Programa que leia 20 números inteiros e armazene-os numa lista. \n",
        "#Em seguida, crie mais 2 listas, uma para armazenar os números pares e outra para armazenar os números impares. Ao final, Imprima as três listas.\n",
        "lista = []\n",
        "lista_par = []\n",
        "lista_impar = []\n",
        "\n",
        "for i in range (20):\n",
        "  lista.append(int(input('Digite um numero: ')))\n",
        "\n",
        "for i in lista:\n",
        "  if i % 2 == 0:\n",
        "    lista_par.append(i)\n",
        "  else:\n",
        "    lista_impar.append(i)\n",
        "\n",
        "print('Os elementos da lista são: ',end = '')\n",
        "for i in lista:\n",
        "  print (i, end = ' ')\n",
        "print('')\n",
        "\n",
        "print('Os elementos da pares lista são: ',end = '')\n",
        "for i in lista_par:\n",
        "  print (i, end = ' ')\n",
        "print('')\n",
        "\n",
        "print('Os elementos ímpares da lista são: ',end = '')\n",
        "for i in lista_impar:\n",
        "  print (i, end = ' ')\n",
        "print('')\n"
      ],
      "metadata": {
        "id": "Z-9Im4mAt-Yz"
      },
      "execution_count": null,
      "outputs": []
    },
    {
      "cell_type": "code",
      "source": [
        "#5) Faça um Programa que peça as quatro notas de 10 alunos junto com o seu nome. \n",
        "#Calcule e armazene numa lista a média de cada aluno, bem como em outra lista armazene o nome do aluno. \n",
        "#Ao final imprima o número de alunos com média maior ou igual a 7.0 junto com o seu nome e a média.\n",
        "nome = []\n",
        "media = []\n",
        "\n",
        "\n",
        "for i in range (10):\n",
        "  med = 0\n",
        "  nome.append(input('Digite o nome do aluno: '))\n",
        "  for j in range (4):\n",
        "    n = float(input(f'Digite a {j+1} nota do aluno: '))\n",
        "    med = med + n\n",
        "  med = med/10\n",
        "  media.append(med)\n",
        "\n",
        "print(f'Alunos com nota maior ou iqual a 7.0: ')\n",
        "for i in range (0,10):\n",
        "  if media[i] >= 7:\n",
        "    print(f'{nome[i]} :',end = '')\n",
        "    print(f'{media[i]:.1f}')\n",
        "\n",
        "print('')\n",
        "\n",
        "for i in range (0,10):\n",
        "  print(f'Aluno: {nome[i]}',end = ' ')\n",
        "  print(f'Media: {media[i]:.1f}')\n",
        "\n"
      ],
      "metadata": {
        "id": "6s4R1WA5t-dv"
      },
      "execution_count": null,
      "outputs": []
    },
    {
      "cell_type": "code",
      "source": [
        "#6) Faça um Programa que leia uma lista de 5 números inteiros. \n",
        "#Após, percorra a lista e calcule a soma e a multiplicação dos números. Ao final, mostre os números lidos, a soma dos números e a multiplicação entre eles.\n",
        "\n",
        "lista = []\n",
        "lista_s = []\n",
        "lista_m = []\n",
        "\n",
        "for i in range (5):\n",
        "  lista.append(int(input('Digite um numero: ')))\n",
        "\n",
        "for i in range (0,5):\n",
        "  lista_s.append(lista[i]+lista[i])\n",
        "\n",
        "for i in range (0,5):\n",
        "  lista_m.append(lista[i]**2)\n",
        "\n",
        "\n",
        "print('Lista normal: ', end = '')\n",
        "for i in lista:\n",
        "  print(i, end = ' ')\n",
        "print('')\n",
        "print('Lista soma: ', end = '')\n",
        "\n",
        "for i in lista_s:\n",
        "  print(i, end = ' ')\n",
        "print('')\n",
        "\n",
        "print('Lista multiplicação: ',end = '')\n",
        "for i in lista_m:\n",
        "  print(i, end = ' ')\n"
      ],
      "metadata": {
        "id": "kIHofnxkuG5V",
        "colab": {
          "base_uri": "https://localhost:8080/"
        },
        "outputId": "4382f266-e4ce-4023-e046-a3599bce1369"
      },
      "execution_count": 8,
      "outputs": [
        {
          "output_type": "stream",
          "name": "stdout",
          "text": [
            "Digite um numero: 2\n",
            "Digite um numero: 5\n",
            "Digite um numero: 7\n",
            "Digite um numero: 1\n",
            "Digite um numero: 3\n",
            "Lista normal: 2 5 7 1 3 \n",
            "Lista soma: 4 10 14 2 6 \n",
            "Lista multiplicação: 4 25 49 1 9 "
          ]
        }
      ]
    },
    {
      "cell_type": "code",
      "source": [
        "#7) Faça um Programa que leia uma lista A com 10 números inteiros, calcule e mostre a soma dos quadrados dos elementos da lista.\n",
        "\n",
        "lista = []\n",
        "soma_quad = 0\n",
        "\n",
        "for i in range (10):\n",
        "  lista.append(int(input('Digite um numero: ')))\n",
        "\n",
        "for i in lista:\n",
        "  soma_quad = soma_quad + i**2\n",
        "\n",
        "print(f'A soma dos quadrados da lista é : {soma_quad}')"
      ],
      "metadata": {
        "id": "Wo-UmFX4uGwH"
      },
      "execution_count": null,
      "outputs": []
    },
    {
      "cell_type": "code",
      "source": [
        "#8) Faça um programa que leia o nome, a idade e a altura de 10 alunos da SoulCode. \n",
        "#Em seguida determine quantos alunos com mais de 13 anos possuem altura inferior à média de altura desses alunos.\n",
        "\n",
        "nome = []\n",
        "idade = []\n",
        "altura = []\n",
        "media = 0\n",
        "cont = 0\n",
        "\n",
        "for i in range (10):\n",
        "  nome.append(str(input(f'Digite o nome do {i+1} aluno: ')))\n",
        "  idade.append(int(input(f'Digite a idade do {i+1} aluno: ')))\n",
        "  altura.append(float(input(f'Digite a altura do {i+1} aluno: ')))\n",
        "  media = media + altura[i]\n",
        "\n",
        "media = media/10\n",
        "\n",
        "print(f'Media das alturas é {media:.1f}')\n",
        "\n",
        "for i in range (0,10):\n",
        "  if idade[i] > 13:\n",
        "    if altura[i] > media:\n",
        "      cont = cont + 1\n",
        "      print(f'O aluno {nome[i]} possui {idade[i]} anos e {altura[i]:.1f} de altura')\n",
        "\n",
        "print (f'{cont} alunos possuem idade maior que 13 e altura maior que a média de {media:.1f}')\n"
      ],
      "metadata": {
        "id": "ebKmCPOYuLWz"
      },
      "execution_count": null,
      "outputs": []
    },
    {
      "cell_type": "code",
      "source": [
        "#9) Escreva um algoritmo em python que leia um número N positivo e preencha uma lista com os N primeiros números da sequência de Fibonacci\n",
        "\n",
        "fib = [1,1]\n",
        "\n",
        "\n",
        "while True:\n",
        "  n = int(input('Digite quantos numeros da sequencia Fibonacci você quer: '))\n",
        "  if n == 0:\n",
        "    print(f'{n} é um numero invalido')\n",
        "  else:\n",
        "    break\n",
        "\n",
        "\n",
        "if n == 1:\n",
        "  fib.pop(1)\n",
        "elif n > 2:\n",
        "  for i in range (2,n):\n",
        "    fib.append(fib[i-2]+fib[i-1])\n",
        "\n",
        "print(f'{fib}', end = ' ')\n"
      ],
      "metadata": {
        "id": "nRnsPw3KuMvE",
        "colab": {
          "base_uri": "https://localhost:8080/"
        },
        "outputId": "e2701bb3-ebd8-4ef6-c222-9e801a9dc413"
      },
      "execution_count": 16,
      "outputs": [
        {
          "output_type": "stream",
          "name": "stdout",
          "text": [
            "Digite quantos numeros da sequencia Fibonacci você quer: 10\n",
            "[1, 1, 2, 3, 5, 8, 13, 21, 34, 55] "
          ]
        }
      ]
    }
  ]
}