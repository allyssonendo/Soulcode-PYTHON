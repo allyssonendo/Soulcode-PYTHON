{
  "nbformat": 4,
  "nbformat_minor": 0,
  "metadata": {
    "colab": {
      "provenance": [],
      "authorship_tag": "ABX9TyMrOURWpFyZuEEczI9c7/Ml",
      "include_colab_link": true
    },
    "kernelspec": {
      "name": "python3",
      "display_name": "Python 3"
    },
    "language_info": {
      "name": "python"
    }
  },
  "cells": [
    {
      "cell_type": "markdown",
      "metadata": {
        "id": "view-in-github",
        "colab_type": "text"
      },
      "source": [
        "<a href=\"https://colab.research.google.com/github/allyssonendo/Soulcode-PYTHON/blob/main/PYTHON_Aula03(WHILE).ipynb\" target=\"_parent\"><img src=\"https://colab.research.google.com/assets/colab-badge.svg\" alt=\"Open In Colab\"/></a>"
      ]
    },
    {
      "cell_type": "code",
      "execution_count": 4,
      "metadata": {
        "id": "_DNZNuOHwc9q",
        "colab": {
          "base_uri": "https://localhost:8080/"
        },
        "outputId": "a4dc2831-d237-427b-dd2b-d90b82825d21"
      },
      "outputs": [
        {
          "output_type": "stream",
          "name": "stdout",
          "text": [
            "Digite a 1 nota:4.6\n",
            "Digite a 2 nota:2.6\n",
            "Digite a 3 nota:8.5\n",
            "Digite a 4 nota:9.3\n",
            "Digite a 5 nota:6\n",
            "A média das notas foi 6.2\n"
          ]
        }
      ],
      "source": [
        "#Ler 5 notas e calcular a media\n",
        "\n",
        "cont = 1\n",
        "media = 0\n",
        "\n",
        "while cont <= 5:\n",
        "  nota = float(input(f'Digite a {cont} nota:'))\n",
        "  media = media + nota\n",
        "  cont = cont + 1\n",
        "\n",
        "media = media/(cont-1)\n",
        "\n",
        "print(f'A média das notas foi {media:.1f}')"
      ]
    },
    {
      "cell_type": "code",
      "source": [
        "contador = 1\n",
        "soma = 0\n",
        "\n",
        "while contador <= 5:\n",
        "  nota = float(input(f'Digite a {contador}ª nota:'))\n",
        "  soma = soma + nota\n",
        "  print(f'A {contador}ª nota digitada foi {nota}')\n",
        "  contador += 1\n",
        "\n",
        "print(f'A média total é {soma/5}')"
      ],
      "metadata": {
        "id": "-67GQz7qqSp6",
        "colab": {
          "base_uri": "https://localhost:8080/"
        },
        "outputId": "e5fd1fb0-96d3-45d5-e7b3-7b5b0cc5f970"
      },
      "execution_count": 5,
      "outputs": [
        {
          "output_type": "stream",
          "name": "stdout",
          "text": [
            "Digite a 1ª nota:5\n",
            "A 1ª nota digitada foi 5.0\n",
            "Digite a 2ª nota:8\n",
            "A 2ª nota digitada foi 8.0\n",
            "Digite a 3ª nota:2\n",
            "A 3ª nota digitada foi 2.0\n",
            "Digite a 4ª nota:9\n",
            "A 4ª nota digitada foi 9.0\n",
            "Digite a 5ª nota:5\n",
            "A 5ª nota digitada foi 5.0\n",
            "A média total é 5.8\n"
          ]
        }
      ]
    },
    {
      "cell_type": "code",
      "source": [
        "#Exercicios WHILE\n",
        "#1) Faça um algoritmo que imprima na tela uma sequência de 10 números pares a partir do 1.\n",
        "\n",
        "cont = 0\n",
        "n = 1\n",
        "while cont <10:\n",
        "  if n % 2 == 0:\n",
        "    print(f'{n}')\n",
        "    cont = cont + 1\n",
        "  n = n + 1\n",
        "  "
      ],
      "metadata": {
        "id": "Lg7sf1F-6Z0l",
        "colab": {
          "base_uri": "https://localhost:8080/"
        },
        "outputId": "675a40ec-f6fe-4b75-874f-6b91e6d26560"
      },
      "execution_count": 6,
      "outputs": [
        {
          "output_type": "stream",
          "name": "stdout",
          "text": [
            "2\n",
            "4\n",
            "6\n",
            "8\n",
            "10\n",
            "12\n",
            "14\n",
            "16\n",
            "18\n",
            "20\n"
          ]
        }
      ]
    },
    {
      "cell_type": "code",
      "source": [
        "#2) Faça um programa que apresente na tela os 10 primeiros números negativos.\n",
        "cont = 0\n",
        "n = -1\n",
        "\n",
        "while cont < 10:\n",
        "  print(n)\n",
        "  n = n-1\n",
        "  cont = cont + 1"
      ],
      "metadata": {
        "id": "i0Hpg0167U2q",
        "colab": {
          "base_uri": "https://localhost:8080/"
        },
        "outputId": "e46dc165-db25-4ab8-e1db-b146851f0db1"
      },
      "execution_count": 7,
      "outputs": [
        {
          "output_type": "stream",
          "name": "stdout",
          "text": [
            "-1\n",
            "-2\n",
            "-3\n",
            "-4\n",
            "-5\n",
            "-6\n",
            "-7\n",
            "-8\n",
            "-9\n",
            "-10\n"
          ]
        }
      ]
    },
    {
      "cell_type": "code",
      "source": [
        "#3) Faça um algoritmo que leia um número positivo e imprima na tela todos os divisores desse número\n",
        "cont = 1\n",
        "while True:\n",
        "  n = int(input('Digite um numero : '))\n",
        "  if n >0:\n",
        "    break\n",
        "  else:\n",
        "    print(f'O numero {n} é invalido')\n",
        "print(f'Os numeros divisores de {n} são: ',end = '')\n",
        "while cont <= n:\n",
        "  if n % cont == 0:\n",
        "    print(cont, end = ' ')\n",
        "  cont = cont + 1"
      ],
      "metadata": {
        "id": "gHvuM_W87VM5",
        "colab": {
          "base_uri": "https://localhost:8080/"
        },
        "outputId": "dd0497b7-73ce-40c0-dc27-5e84acb0b581"
      },
      "execution_count": 8,
      "outputs": [
        {
          "output_type": "stream",
          "name": "stdout",
          "text": [
            "Digite um numero : 542\n",
            "Os numeros divisores de 542 são: 1 2 271 542 "
          ]
        }
      ]
    },
    {
      "cell_type": "code",
      "source": [
        "#4) Faça um programa que leia N notas e mostre na tela a média das notas lidas.\n",
        "\n",
        "qtd = int(input('Digite a quantidade de notas: '))\n",
        "cont = 0\n",
        "media = 0\n",
        "\n",
        "while cont < qtd:\n",
        "  n = float(input(f'Digite a {cont+1} nota: '))\n",
        "  media = media + n\n",
        "  cont = cont + 1\n",
        "\n",
        "print(f'A media das notas foi {media/cont:.1f}')\n"
      ],
      "metadata": {
        "id": "KghA00MJ7Vft",
        "colab": {
          "base_uri": "https://localhost:8080/"
        },
        "outputId": "a4935eb4-f88c-47e2-995b-56a804c9ea21"
      },
      "execution_count": 9,
      "outputs": [
        {
          "output_type": "stream",
          "name": "stdout",
          "text": [
            "Digite a quantidade de notas: 3\n",
            "Digite a 1 nota: 6\n",
            "Digite a 2 nota: 3.6\n",
            "Digite a 3 nota: 8\n",
            "A media das notas foi 5.9\n"
          ]
        }
      ]
    },
    {
      "cell_type": "code",
      "source": [
        "#5) Escreva um algoritmo que leia um valor inicial A e uma razão R e imprima uma seqüência em P.A. contendo 10 valores.\n",
        "\n",
        "cont = 0\n",
        "\n",
        "n = int(input('Digite um valor inicial: '))\n",
        "r = int(input('Digite o valor da razão: '))\n",
        "\n",
        "while cont < 10:\n",
        "  print(n)\n",
        "  n = n + r\n",
        "  cont = cont + 1"
      ],
      "metadata": {
        "id": "VQ00KRda7V4S",
        "colab": {
          "base_uri": "https://localhost:8080/"
        },
        "outputId": "806c0f06-72b0-4851-dd48-7fefdb77f331"
      },
      "execution_count": 10,
      "outputs": [
        {
          "output_type": "stream",
          "name": "stdout",
          "text": [
            "Digite um valor inicial: 7\n",
            "Digite o valor da razão: 4\n",
            "7\n",
            "11\n",
            "15\n",
            "19\n",
            "23\n",
            "27\n",
            "31\n",
            "35\n",
            "39\n",
            "43\n"
          ]
        }
      ]
    },
    {
      "cell_type": "code",
      "source": [
        "#6) Escrever um algoritmo que gera e escreve os números ímpares entre 100 e 200.\n",
        "\n",
        "cont = 100\n",
        "\n",
        "while cont <= 200:\n",
        "  if cont % 2 == 1:\n",
        "    print(cont)\n",
        "  cont = cont + 1\n"
      ],
      "metadata": {
        "id": "WSqtmxmo7WL2",
        "colab": {
          "base_uri": "https://localhost:8080/"
        },
        "outputId": "521229d6-1336-4384-8088-e2252515f2a5"
      },
      "execution_count": 11,
      "outputs": [
        {
          "output_type": "stream",
          "name": "stdout",
          "text": [
            "101\n",
            "103\n",
            "105\n",
            "107\n",
            "109\n",
            "111\n",
            "113\n",
            "115\n",
            "117\n",
            "119\n",
            "121\n",
            "123\n",
            "125\n",
            "127\n",
            "129\n",
            "131\n",
            "133\n",
            "135\n",
            "137\n",
            "139\n",
            "141\n",
            "143\n",
            "145\n",
            "147\n",
            "149\n",
            "151\n",
            "153\n",
            "155\n",
            "157\n",
            "159\n",
            "161\n",
            "163\n",
            "165\n",
            "167\n",
            "169\n",
            "171\n",
            "173\n",
            "175\n",
            "177\n",
            "179\n",
            "181\n",
            "183\n",
            "185\n",
            "187\n",
            "189\n",
            "191\n",
            "193\n",
            "195\n",
            "197\n",
            "199\n"
          ]
        }
      ]
    },
    {
      "cell_type": "code",
      "source": [
        "#7) Crie uma tabuada do 1 ao 10 utilizando o comando while. Ex de saída: 1 x 0 = 0 1 x 1 = 1 1 x 2 = … 1 x 10 = 10\n",
        "#2 x 0 = 0 2 x 1 = 2 … 2 x 10 = 20\n",
        "#….\n",
        "#10 x 0 = 0 10 x 1 = 10 … 10 x 10 = 100\n",
        "\n",
        "cont = 1\n",
        "\n",
        "\n",
        "while cont < 11:\n",
        "  mult = 0\n",
        "  while mult < 11:\n",
        "    print(f'{cont} X {mult} = {cont*mult}')\n",
        "    mult = mult + 1\n",
        "  cont = cont + 1\n",
        "  "
      ],
      "metadata": {
        "id": "gbEsgh9s7WtR",
        "colab": {
          "base_uri": "https://localhost:8080/"
        },
        "outputId": "c600d59d-e25d-474a-b860-758538986b68"
      },
      "execution_count": 12,
      "outputs": [
        {
          "output_type": "stream",
          "name": "stdout",
          "text": [
            "1 X 0 = 0\n",
            "1 X 1 = 1\n",
            "1 X 2 = 2\n",
            "1 X 3 = 3\n",
            "1 X 4 = 4\n",
            "1 X 5 = 5\n",
            "1 X 6 = 6\n",
            "1 X 7 = 7\n",
            "1 X 8 = 8\n",
            "1 X 9 = 9\n",
            "1 X 10 = 10\n",
            "2 X 0 = 0\n",
            "2 X 1 = 2\n",
            "2 X 2 = 4\n",
            "2 X 3 = 6\n",
            "2 X 4 = 8\n",
            "2 X 5 = 10\n",
            "2 X 6 = 12\n",
            "2 X 7 = 14\n",
            "2 X 8 = 16\n",
            "2 X 9 = 18\n",
            "2 X 10 = 20\n",
            "3 X 0 = 0\n",
            "3 X 1 = 3\n",
            "3 X 2 = 6\n",
            "3 X 3 = 9\n",
            "3 X 4 = 12\n",
            "3 X 5 = 15\n",
            "3 X 6 = 18\n",
            "3 X 7 = 21\n",
            "3 X 8 = 24\n",
            "3 X 9 = 27\n",
            "3 X 10 = 30\n",
            "4 X 0 = 0\n",
            "4 X 1 = 4\n",
            "4 X 2 = 8\n",
            "4 X 3 = 12\n",
            "4 X 4 = 16\n",
            "4 X 5 = 20\n",
            "4 X 6 = 24\n",
            "4 X 7 = 28\n",
            "4 X 8 = 32\n",
            "4 X 9 = 36\n",
            "4 X 10 = 40\n",
            "5 X 0 = 0\n",
            "5 X 1 = 5\n",
            "5 X 2 = 10\n",
            "5 X 3 = 15\n",
            "5 X 4 = 20\n",
            "5 X 5 = 25\n",
            "5 X 6 = 30\n",
            "5 X 7 = 35\n",
            "5 X 8 = 40\n",
            "5 X 9 = 45\n",
            "5 X 10 = 50\n",
            "6 X 0 = 0\n",
            "6 X 1 = 6\n",
            "6 X 2 = 12\n",
            "6 X 3 = 18\n",
            "6 X 4 = 24\n",
            "6 X 5 = 30\n",
            "6 X 6 = 36\n",
            "6 X 7 = 42\n",
            "6 X 8 = 48\n",
            "6 X 9 = 54\n",
            "6 X 10 = 60\n",
            "7 X 0 = 0\n",
            "7 X 1 = 7\n",
            "7 X 2 = 14\n",
            "7 X 3 = 21\n",
            "7 X 4 = 28\n",
            "7 X 5 = 35\n",
            "7 X 6 = 42\n",
            "7 X 7 = 49\n",
            "7 X 8 = 56\n",
            "7 X 9 = 63\n",
            "7 X 10 = 70\n",
            "8 X 0 = 0\n",
            "8 X 1 = 8\n",
            "8 X 2 = 16\n",
            "8 X 3 = 24\n",
            "8 X 4 = 32\n",
            "8 X 5 = 40\n",
            "8 X 6 = 48\n",
            "8 X 7 = 56\n",
            "8 X 8 = 64\n",
            "8 X 9 = 72\n",
            "8 X 10 = 80\n",
            "9 X 0 = 0\n",
            "9 X 1 = 9\n",
            "9 X 2 = 18\n",
            "9 X 3 = 27\n",
            "9 X 4 = 36\n",
            "9 X 5 = 45\n",
            "9 X 6 = 54\n",
            "9 X 7 = 63\n",
            "9 X 8 = 72\n",
            "9 X 9 = 81\n",
            "9 X 10 = 90\n",
            "10 X 0 = 0\n",
            "10 X 1 = 10\n",
            "10 X 2 = 20\n",
            "10 X 3 = 30\n",
            "10 X 4 = 40\n",
            "10 X 5 = 50\n",
            "10 X 6 = 60\n",
            "10 X 7 = 70\n",
            "10 X 8 = 80\n",
            "10 X 9 = 90\n",
            "10 X 10 = 100\n"
          ]
        }
      ]
    },
    {
      "cell_type": "code",
      "source": [
        "#8) Desenvolver um algoritmo que leia um número não determinado de valores e calcule e escreva a média aritmética dos valores lidos,\n",
        "#a quantidade de valores positivos, a quantidade de valores negativos e o percentual de valores negativos e positivos.\n",
        "soma = 0\n",
        "media = 0\n",
        "cont = 0\n",
        "pos = 0\n",
        "neg = 0\n",
        "porcent_pos = 0\n",
        "porcent_neg = 0\n",
        "\n",
        "while True :\n",
        "  op = str(input('Você deseja inserir um numero? (s/n) '))\n",
        "  if op in 'Nn':\n",
        "    break\n",
        "  if op in 'Ss':\n",
        "    n = float(input('Digite o valor: '))\n",
        "    cont = cont + 1\n",
        "\n",
        "#media    \n",
        "    soma = soma + n\n",
        "    media = soma/cont\n",
        "#numeros positivos    \n",
        "    if n > 0:\n",
        "      pos = pos + 1\n",
        "#numeros negativos   \n",
        "    elif n < 0:\n",
        "      neg = neg + 1\n",
        "# % positivos\n",
        "    porcen_pos = (pos*100)/cont\n",
        "# % negatvos\n",
        "    porcen_neg = (neg*100)/cont\n",
        "\n",
        "    print(f'A media será de {media:.2f}')\n",
        "    print(f'A quantidade de numeros positivos é {pos}')\n",
        "    print(f'A quantidade de numeros negativos é {neg}')\n",
        "    print(f'A porcentagem de numeros positivos é {porcen_pos:.1f}%')\n",
        "    print(f'A porcentagem de numeros negativos é {porcen_neg:.1f}%')\n",
        "\n"
      ],
      "metadata": {
        "id": "XUdEflh-7W4V",
        "colab": {
          "base_uri": "https://localhost:8080/"
        },
        "outputId": "63e61a14-0b0b-4a87-93dd-8e9bc13e0aaa"
      },
      "execution_count": 14,
      "outputs": [
        {
          "name": "stdout",
          "output_type": "stream",
          "text": [
            "Você deseja inserir um numero? (s/n) s\n",
            "Digite o valor: 29\n",
            "A media será de 29.00\n",
            "A quantidade de numeros positivos é 1\n",
            "A quantidade de numeros negativos é 0\n",
            "A porcentagem de numeros positivos é 100.0%\n",
            "A porcentagem de numeros negativos é 0.0%\n",
            "Você deseja inserir um numero? (s/n) s\n",
            "Digite o valor: 38\n",
            "A media será de 33.50\n",
            "A quantidade de numeros positivos é 2\n",
            "A quantidade de numeros negativos é 0\n",
            "A porcentagem de numeros positivos é 100.0%\n",
            "A porcentagem de numeros negativos é 0.0%\n",
            "Você deseja inserir um numero? (s/n) s\n",
            "Digite o valor: -19\n",
            "A media será de 16.00\n",
            "A quantidade de numeros positivos é 2\n",
            "A quantidade de numeros negativos é 1\n",
            "A porcentagem de numeros positivos é 66.7%\n",
            "A porcentagem de numeros negativos é 33.3%\n",
            "Você deseja inserir um numero? (s/n) s\n",
            "Digite o valor: -32\n",
            "A media será de 4.00\n",
            "A quantidade de numeros positivos é 2\n",
            "A quantidade de numeros negativos é 2\n",
            "A porcentagem de numeros positivos é 50.0%\n",
            "A porcentagem de numeros negativos é 50.0%\n",
            "Você deseja inserir um numero? (s/n) n\n"
          ]
        }
      ]
    },
    {
      "cell_type": "code",
      "source": [
        "#9) Escrever um algoritmo que leia uma quantidade desconhecida de números e conte quantos deles estão nos seguintes intervalos:\n",
        "#[0-25], [26-50], [51-75] e [76-100]. A entrada de dados deve terminar quando for lido um número negativo.\n",
        "\n",
        "i1 = 0\n",
        "i2 = 0\n",
        "i3 = 0\n",
        "i4 = 0\n",
        "\n",
        "while True:\n",
        "  n = int(input('Digite um numero: '))\n",
        "  if n < 0 :\n",
        "    print('Numero negativo')\n",
        "    break\n",
        "  elif 0 <= n <= 25:\n",
        "    i1 = i1 + 1\n",
        "  elif 26 <= n <= 50:\n",
        "    i2 = i2 + 1\n",
        "  elif 51 <= n <= 75:\n",
        "    i3 = i3 + 1\n",
        "  elif 76 <= n <= 100:\n",
        "    i4 = i4 + 1\n",
        "  else:\n",
        "    print('Numero acima de 100')\n",
        "\n",
        "print(f'A quantidade de numeros no intervalo [0-25] é de {i1}')\n",
        "print(f'A quantidade de numeros no intervalo [26-50] é de {i2}')\n",
        "print(f'A quantidade de numeros no intervalo [51-75] é de {i3}')\n",
        "print(f'A quantidade de numeros no intervalo [76-100] é de {i4}')"
      ],
      "metadata": {
        "id": "ny69wUzM7XEL",
        "colab": {
          "base_uri": "https://localhost:8080/"
        },
        "outputId": "3b2b2811-4e93-478c-c144-1d3cf0f303b6"
      },
      "execution_count": 15,
      "outputs": [
        {
          "output_type": "stream",
          "name": "stdout",
          "text": [
            "Digite um numero: 23\n",
            "Digite um numero: 4\n",
            "Digite um numero: 61\n",
            "Digite um numero: 98\n",
            "Digite um numero: 2\n",
            "Digite um numero: 15\n",
            "Digite um numero: -1\n",
            "Numero negativo\n",
            "A quantidade de numeros no intervalo [0-25] é de 4\n",
            "A quantidade de numeros no intervalo [26-50] é de 0\n",
            "A quantidade de numeros no intervalo [51-75] é de 1\n",
            "A quantidade de numeros no intervalo [76-100] é de 1\n"
          ]
        }
      ]
    },
    {
      "cell_type": "code",
      "source": [
        "#10) Escreva um algoritmo que leia um valor inicial A e imprima a seqüência de valores do cálculo de A! e o seu resultado. Ex: 5! = 5 X 4 X 3 X 2 X 1 = 120\n",
        "\n",
        "n = int(input('Digite um numero: '))\n",
        "mult = n\n",
        "print(f'{n}! = ',end = '')\n",
        "while n > 0:\n",
        "  print(f'{n} X ',end = '')\n",
        "  n = n-1\n",
        "  mult = mult * n\n",
        "  \n",
        "  if n == 1:\n",
        "    print(f'{n} = {mult}')\n",
        "    break\n",
        "  "
      ],
      "metadata": {
        "id": "ya49WoL-7mo5",
        "colab": {
          "base_uri": "https://localhost:8080/"
        },
        "outputId": "fd8de329-0222-446c-b2c3-d4e7e0b03211"
      },
      "execution_count": 16,
      "outputs": [
        {
          "output_type": "stream",
          "name": "stdout",
          "text": [
            "Digite um numero: 9\n",
            "9! = 9 X 8 X 7 X 6 X 5 X 4 X 3 X 2 X 1 = 362880\n"
          ]
        }
      ]
    }
  ]
}