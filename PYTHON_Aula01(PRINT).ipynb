{
  "nbformat": 4,
  "nbformat_minor": 0,
  "metadata": {
    "colab": {
      "provenance": [],
      "mount_file_id": "1x3MKeGNfSRO9W7e63I492yqUog-OSnCO",
      "authorship_tag": "ABX9TyPTMjoU3LE7sEHL476tINn6",
      "include_colab_link": true
    },
    "kernelspec": {
      "name": "python3",
      "display_name": "Python 3"
    },
    "language_info": {
      "name": "python"
    }
  },
  "cells": [
    {
      "cell_type": "markdown",
      "metadata": {
        "id": "view-in-github",
        "colab_type": "text"
      },
      "source": [
        "<a href=\"https://colab.research.google.com/github/allyssonendo/soulcode/blob/main/PYTHON_Aula01(PRINT).ipynb\" target=\"_parent\"><img src=\"https://colab.research.google.com/assets/colab-badge.svg\" alt=\"Open In Colab\"/></a>"
      ]
    },
    {
      "cell_type": "code",
      "execution_count": null,
      "metadata": {
        "id": "q06_euERJsqr",
        "colab": {
          "base_uri": "https://localhost:8080/"
        },
        "outputId": "4c348592-87e1-4ea8-ec18-9c8836d6620c"
      },
      "outputs": [
        {
          "output_type": "stream",
          "name": "stdout",
          "text": [
            "12\n"
          ]
        }
      ],
      "source": [
        "#SOMA\n",
        "n1 = 5\n",
        "n2 = 7\n",
        "soma = n1+n2\n",
        "print(soma)"
      ]
    },
    {
      "cell_type": "code",
      "source": [
        "#SUBTRAÇÂO\n",
        "n1 = 2\n",
        "n2 = 1\n",
        "sub = n1 - n2\n",
        "print(sub)"
      ],
      "metadata": {
        "colab": {
          "base_uri": "https://localhost:8080/"
        },
        "id": "mi4JiT4LYXkj",
        "outputId": "bd265f36-de5d-4875-a7ae-38ec130e23c7"
      },
      "execution_count": null,
      "outputs": [
        {
          "output_type": "stream",
          "name": "stdout",
          "text": [
            "1\n"
          ]
        }
      ]
    },
    {
      "cell_type": "code",
      "source": [
        "#MULTIPLICAÇÂO\n",
        "n1 = 3\n",
        "dobro = n1*2\n",
        "\n",
        "print(dobro)"
      ],
      "metadata": {
        "colab": {
          "base_uri": "https://localhost:8080/"
        },
        "id": "SZhvYyQBYfF-",
        "outputId": "fac03d90-5d31-49ca-fa7e-5c4f3287c241"
      },
      "execution_count": null,
      "outputs": [
        {
          "output_type": "stream",
          "name": "stdout",
          "text": [
            "6\n"
          ]
        }
      ]
    },
    {
      "cell_type": "code",
      "source": [
        "#DIVISÂO\n",
        "n1 = 10 \n",
        "n2 = 5\n",
        "print(n1/n2)"
      ],
      "metadata": {
        "colab": {
          "base_uri": "https://localhost:8080/"
        },
        "id": "XlV217BYY5QU",
        "outputId": "afe90f1f-e4e1-4c8b-f0d9-11648a1c20ce"
      },
      "execution_count": null,
      "outputs": [
        {
          "output_type": "stream",
          "name": "stdout",
          "text": [
            "2.0\n"
          ]
        }
      ]
    },
    {
      "cell_type": "code",
      "source": [
        "#DIVISÂO INTEIRA\n",
        "n1 = 10\n",
        "n2 = 3\n",
        "div = n1//n2\n",
        "print(div)"
      ],
      "metadata": {
        "colab": {
          "base_uri": "https://localhost:8080/"
        },
        "id": "LUToQl2nZLrw",
        "outputId": "04c663f2-0b45-4341-eb24-13097ea4047b"
      },
      "execution_count": null,
      "outputs": [
        {
          "output_type": "stream",
          "name": "stdout",
          "text": [
            "3\n"
          ]
        }
      ]
    },
    {
      "cell_type": "code",
      "source": [
        "#EXPONENCIAÇÂO\n",
        "n1 = 2\n",
        "n2 = 3\n",
        "expo = n1**n2\n",
        "print(expo)"
      ],
      "metadata": {
        "colab": {
          "base_uri": "https://localhost:8080/"
        },
        "id": "CEXg1A8YZV_m",
        "outputId": "dda42366-54a7-4636-d9cf-7d6eb62d0d48"
      },
      "execution_count": null,
      "outputs": [
        {
          "output_type": "stream",
          "name": "stdout",
          "text": [
            "8\n"
          ]
        }
      ]
    },
    {
      "cell_type": "code",
      "source": [
        "#MODULO / RESTO DE DIVISÂO\n",
        "n1 = 10\n",
        "n2 = 3\n",
        "print(n1%n2)"
      ],
      "metadata": {
        "colab": {
          "base_uri": "https://localhost:8080/"
        },
        "id": "WMviUGwnZ1A2",
        "outputId": "7bdb9140-367a-4313-bfe4-7a6f9cdcafed"
      },
      "execution_count": null,
      "outputs": [
        {
          "output_type": "stream",
          "name": "stdout",
          "text": [
            "1\n"
          ]
        }
      ]
    },
    {
      "cell_type": "code",
      "source": [
        "#(EXERCICIO) Algoritmo que le dois numeros reais e apresente o resultado das operações\n",
        "\n",
        "n1 = int(input('Digite um valor: '))\n",
        "n2 = int(input('Digite outro valor: '))\n",
        "soma = n1 + n2\n",
        "sub = n1 - n2\n",
        "mult = n1 * n2\n",
        "div = n1 / n2\n",
        "print(f'SOMA = {soma}')\n",
        "print(f'SUBTRAÇÂO = {sub}')\n",
        "print(f'MULTIPLICAÇÂO = {mult}')\n",
        "print(f'DIVISÂO = {div}')\n"
      ],
      "metadata": {
        "colab": {
          "base_uri": "https://localhost:8080/"
        },
        "id": "Hxc171v7avhK",
        "outputId": "277fba53-f360-43ba-c4f0-dc520b8d9d37"
      },
      "execution_count": null,
      "outputs": [
        {
          "output_type": "stream",
          "name": "stdout",
          "text": [
            "Digite um valor: 12\n",
            "Digite outro valor: 3\n",
            "SOMA = 15\n",
            "SUBTRAÇÂO = 9\n",
            "MULTIPLICAÇÂO = 36\n",
            "DIVISÂO = 4.0\n"
          ]
        }
      ]
    },
    {
      "cell_type": "code",
      "source": [
        "#(EXERCICIO) Algoritmo que lê 3 notas e mostra a média\n",
        "n1 = float(input('Digite a primeira nota: '))\n",
        "n2 = float(input('Digite a segunda nota: '))\n",
        "n3 = float(input('Digite a terceira nota: '))\n",
        "print(f'MEDIA = {(n1+n2+n3)/3}')"
      ],
      "metadata": {
        "colab": {
          "base_uri": "https://localhost:8080/"
        },
        "id": "vVfZ4zZchndX",
        "outputId": "371ddf97-f05b-43d9-feb1-e0914854581e"
      },
      "execution_count": null,
      "outputs": [
        {
          "output_type": "stream",
          "name": "stdout",
          "text": [
            "Digite a primeira nota: 10\n",
            "Digite a segunda nota: 2\n",
            "Digite a terceira nota: 3\n",
            "MEDIA = 5.0\n"
          ]
        }
      ]
    },
    {
      "cell_type": "code",
      "source": [],
      "metadata": {
        "id": "dBkcvfLfgejv"
      },
      "execution_count": null,
      "outputs": []
    }
  ]
}